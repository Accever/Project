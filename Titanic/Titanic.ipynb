{
 "cells": [
  {
   "cell_type": "markdown",
   "metadata": {},
   "source": [
    "# Titanic Survival Prediction\n",
    "by: Accever A. Mendoza"
   ]
  },
  {
   "cell_type": "markdown",
   "metadata": {},
   "source": [
    "## Executive Summary\n",
    "\n",
    "We are given the data for Titanic and various features of the passengers. We would like to determine if the person will survive or not and determine the best predictor variable. We used various classifier models but we have Gradient Boosting Method highest at 80.72% test accuracy. Interestingly, the top predictor for most of the models is sex, except for the one with highest accuracy."
   ]
  },
  {
   "cell_type": "markdown",
   "metadata": {
    "ExecuteTime": {
     "end_time": "2018-07-23T15:56:48.288727Z",
     "start_time": "2018-07-23T15:56:48.282810Z"
    }
   },
   "source": [
    "We now take a look at the Titanic Data."
   ]
  },
  {
   "cell_type": "code",
   "execution_count": 1,
   "metadata": {
    "ExecuteTime": {
     "end_time": "2018-07-23T15:46:23.524669Z",
     "start_time": "2018-07-23T15:46:23.033154Z"
    }
   },
   "outputs": [],
   "source": [
    "import numpy as np\n",
    "import pandas as pd\n",
    "from collections import Counter\n",
    "\n",
    "df = pd.read_excel('titanic.xls')"
   ]
  },
  {
   "cell_type": "code",
   "execution_count": 2,
   "metadata": {
    "ExecuteTime": {
     "end_time": "2018-07-23T15:46:23.554910Z",
     "start_time": "2018-07-23T15:46:23.527243Z"
    }
   },
   "outputs": [
    {
     "data": {
      "text/html": [
       "<div>\n",
       "<style scoped>\n",
       "    .dataframe tbody tr th:only-of-type {\n",
       "        vertical-align: middle;\n",
       "    }\n",
       "\n",
       "    .dataframe tbody tr th {\n",
       "        vertical-align: top;\n",
       "    }\n",
       "\n",
       "    .dataframe thead th {\n",
       "        text-align: right;\n",
       "    }\n",
       "</style>\n",
       "<table border=\"1\" class=\"dataframe\">\n",
       "  <thead>\n",
       "    <tr style=\"text-align: right;\">\n",
       "      <th></th>\n",
       "      <th>pclass</th>\n",
       "      <th>name</th>\n",
       "      <th>sex</th>\n",
       "      <th>age</th>\n",
       "      <th>sibsp</th>\n",
       "      <th>parch</th>\n",
       "      <th>ticket</th>\n",
       "      <th>fare</th>\n",
       "      <th>cabin</th>\n",
       "      <th>embarked</th>\n",
       "      <th>target</th>\n",
       "    </tr>\n",
       "  </thead>\n",
       "  <tbody>\n",
       "    <tr>\n",
       "      <th>0</th>\n",
       "      <td>1</td>\n",
       "      <td>Allen, Miss. Elisabeth Walton</td>\n",
       "      <td>female</td>\n",
       "      <td>29.0000</td>\n",
       "      <td>0</td>\n",
       "      <td>0</td>\n",
       "      <td>24160</td>\n",
       "      <td>211.3375</td>\n",
       "      <td>B5</td>\n",
       "      <td>S</td>\n",
       "      <td>1</td>\n",
       "    </tr>\n",
       "    <tr>\n",
       "      <th>1</th>\n",
       "      <td>1</td>\n",
       "      <td>Allison, Master. Hudson Trevor</td>\n",
       "      <td>male</td>\n",
       "      <td>0.9167</td>\n",
       "      <td>1</td>\n",
       "      <td>2</td>\n",
       "      <td>113781</td>\n",
       "      <td>151.5500</td>\n",
       "      <td>C22 C26</td>\n",
       "      <td>S</td>\n",
       "      <td>1</td>\n",
       "    </tr>\n",
       "    <tr>\n",
       "      <th>2</th>\n",
       "      <td>1</td>\n",
       "      <td>Allison, Miss. Helen Loraine</td>\n",
       "      <td>female</td>\n",
       "      <td>2.0000</td>\n",
       "      <td>1</td>\n",
       "      <td>2</td>\n",
       "      <td>113781</td>\n",
       "      <td>151.5500</td>\n",
       "      <td>C22 C26</td>\n",
       "      <td>S</td>\n",
       "      <td>0</td>\n",
       "    </tr>\n",
       "    <tr>\n",
       "      <th>3</th>\n",
       "      <td>1</td>\n",
       "      <td>Allison, Mr. Hudson Joshua Creighton</td>\n",
       "      <td>male</td>\n",
       "      <td>30.0000</td>\n",
       "      <td>1</td>\n",
       "      <td>2</td>\n",
       "      <td>113781</td>\n",
       "      <td>151.5500</td>\n",
       "      <td>C22 C26</td>\n",
       "      <td>S</td>\n",
       "      <td>0</td>\n",
       "    </tr>\n",
       "    <tr>\n",
       "      <th>4</th>\n",
       "      <td>1</td>\n",
       "      <td>Allison, Mrs. Hudson J C (Bessie Waldo Daniels)</td>\n",
       "      <td>female</td>\n",
       "      <td>25.0000</td>\n",
       "      <td>1</td>\n",
       "      <td>2</td>\n",
       "      <td>113781</td>\n",
       "      <td>151.5500</td>\n",
       "      <td>C22 C26</td>\n",
       "      <td>S</td>\n",
       "      <td>0</td>\n",
       "    </tr>\n",
       "  </tbody>\n",
       "</table>\n",
       "</div>"
      ],
      "text/plain": [
       "   pclass                                             name     sex      age  \\\n",
       "0       1                    Allen, Miss. Elisabeth Walton  female  29.0000   \n",
       "1       1                   Allison, Master. Hudson Trevor    male   0.9167   \n",
       "2       1                     Allison, Miss. Helen Loraine  female   2.0000   \n",
       "3       1             Allison, Mr. Hudson Joshua Creighton    male  30.0000   \n",
       "4       1  Allison, Mrs. Hudson J C (Bessie Waldo Daniels)  female  25.0000   \n",
       "\n",
       "   sibsp  parch  ticket      fare    cabin embarked  target  \n",
       "0      0      0   24160  211.3375       B5        S       1  \n",
       "1      1      2  113781  151.5500  C22 C26        S       1  \n",
       "2      1      2  113781  151.5500  C22 C26        S       0  \n",
       "3      1      2  113781  151.5500  C22 C26        S       0  \n",
       "4      1      2  113781  151.5500  C22 C26        S       0  "
      ]
     },
     "execution_count": 2,
     "metadata": {},
     "output_type": "execute_result"
    }
   ],
   "source": [
    "df.head()"
   ]
  },
  {
   "cell_type": "code",
   "execution_count": 3,
   "metadata": {
    "ExecuteTime": {
     "end_time": "2018-07-23T15:46:23.565296Z",
     "start_time": "2018-07-23T15:46:23.558886Z"
    }
   },
   "outputs": [
    {
     "data": {
      "text/plain": [
       "(1309, 11)"
      ]
     },
     "execution_count": 3,
     "metadata": {},
     "output_type": "execute_result"
    }
   ],
   "source": [
    "df.shape"
   ]
  },
  {
   "cell_type": "markdown",
   "metadata": {},
   "source": [
    "## Data Description\n",
    "\n",
    "The Titanic Data consists of the following features:\n",
    "\n",
    "| Feature | Description | Type  | Sample |\n",
    "|:-----:|:-----:|:-----:|:-----:|\n",
    "| __Target__ | Survived or died | Categorical - Nominal | 0 = No, 1 = Yes |\n",
    "| __pclass__ | Passenger's class type | Categorical - Ordinal | 1 = 1st, 2 = 2nd, 3 = 3rd |\n",
    "| __name__ | Passenger's name | Categorical - Nominal | Allen, Miss. Elisabeth Walton |\n",
    "| __sex__ | Passenger's gender | Categorical - Nominal | male, female |\n",
    "| __age__ | Passenger's age | Numeric | 29, 0.9167 |\n",
    "| __sibsp__ | Number of siblings/spouses aboard | Numeric | 0, 1 |\n",
    "| __parch__ | Number of parents/children aboard | Numeric | 0, 2 |\n",
    "| __ticket__ | Ticket number | Categorical - Nominal | 24160, STON/O 2 |\n",
    "| __fare__ | Passenger's Fare | Numeric | 211.3375, 151.5500 |\n",
    "| __cabin__ | Cabin number| Categorical - Nominal | B5, C22 C26 |\n",
    "| __embarked__ | Port of embarkation | Categorical - Nominal |  C = Cherbourg, Q = Queenstown, S = Southampton|"
   ]
  },
  {
   "cell_type": "markdown",
   "metadata": {},
   "source": [
    "## Cleaning the Data\n",
    "\n",
    "We take a look first at the number of NaN values for our dataframe. Values for cabin comprises of 77% NaN values so we decided to drop instead of impute the values. For column ticket, we wouldn't want it to be a predictor for the survival because it is just the ticket number. For features namely age, fare and embarked, we dropped the rows with incomplete values. Column name was also changed to become the index of the dataframe. Categorical features were converted using one-hot encoding through the pandas.get_dummies() function. This is to assign numbers to certain categories."
   ]
  },
  {
   "cell_type": "code",
   "execution_count": 4,
   "metadata": {
    "ExecuteTime": {
     "end_time": "2018-07-23T15:46:23.580212Z",
     "start_time": "2018-07-23T15:46:23.569141Z"
    }
   },
   "outputs": [
    {
     "data": {
      "text/plain": [
       "pclass         0\n",
       "name           0\n",
       "sex            0\n",
       "age          263\n",
       "sibsp          0\n",
       "parch          0\n",
       "ticket         0\n",
       "fare           1\n",
       "cabin       1014\n",
       "embarked       2\n",
       "target         0\n",
       "dtype: int64"
      ]
     },
     "execution_count": 4,
     "metadata": {},
     "output_type": "execute_result"
    }
   ],
   "source": [
    "df.isnull().sum()"
   ]
  },
  {
   "cell_type": "code",
   "execution_count": 5,
   "metadata": {
    "ExecuteTime": {
     "end_time": "2018-07-23T15:46:23.602904Z",
     "start_time": "2018-07-23T15:46:23.584146Z"
    }
   },
   "outputs": [
    {
     "data": {
      "text/html": [
       "<div>\n",
       "<style scoped>\n",
       "    .dataframe tbody tr th:only-of-type {\n",
       "        vertical-align: middle;\n",
       "    }\n",
       "\n",
       "    .dataframe tbody tr th {\n",
       "        vertical-align: top;\n",
       "    }\n",
       "\n",
       "    .dataframe thead th {\n",
       "        text-align: right;\n",
       "    }\n",
       "</style>\n",
       "<table border=\"1\" class=\"dataframe\">\n",
       "  <thead>\n",
       "    <tr style=\"text-align: right;\">\n",
       "      <th></th>\n",
       "      <th>pclass</th>\n",
       "      <th>name</th>\n",
       "      <th>sex</th>\n",
       "      <th>age</th>\n",
       "      <th>sibsp</th>\n",
       "      <th>parch</th>\n",
       "      <th>fare</th>\n",
       "      <th>embarked</th>\n",
       "      <th>target</th>\n",
       "    </tr>\n",
       "  </thead>\n",
       "  <tbody>\n",
       "    <tr>\n",
       "      <th>0</th>\n",
       "      <td>1</td>\n",
       "      <td>Allen, Miss. Elisabeth Walton</td>\n",
       "      <td>female</td>\n",
       "      <td>29.0000</td>\n",
       "      <td>0</td>\n",
       "      <td>0</td>\n",
       "      <td>211.3375</td>\n",
       "      <td>S</td>\n",
       "      <td>1</td>\n",
       "    </tr>\n",
       "    <tr>\n",
       "      <th>1</th>\n",
       "      <td>1</td>\n",
       "      <td>Allison, Master. Hudson Trevor</td>\n",
       "      <td>male</td>\n",
       "      <td>0.9167</td>\n",
       "      <td>1</td>\n",
       "      <td>2</td>\n",
       "      <td>151.5500</td>\n",
       "      <td>S</td>\n",
       "      <td>1</td>\n",
       "    </tr>\n",
       "    <tr>\n",
       "      <th>2</th>\n",
       "      <td>1</td>\n",
       "      <td>Allison, Miss. Helen Loraine</td>\n",
       "      <td>female</td>\n",
       "      <td>2.0000</td>\n",
       "      <td>1</td>\n",
       "      <td>2</td>\n",
       "      <td>151.5500</td>\n",
       "      <td>S</td>\n",
       "      <td>0</td>\n",
       "    </tr>\n",
       "    <tr>\n",
       "      <th>3</th>\n",
       "      <td>1</td>\n",
       "      <td>Allison, Mr. Hudson Joshua Creighton</td>\n",
       "      <td>male</td>\n",
       "      <td>30.0000</td>\n",
       "      <td>1</td>\n",
       "      <td>2</td>\n",
       "      <td>151.5500</td>\n",
       "      <td>S</td>\n",
       "      <td>0</td>\n",
       "    </tr>\n",
       "    <tr>\n",
       "      <th>4</th>\n",
       "      <td>1</td>\n",
       "      <td>Allison, Mrs. Hudson J C (Bessie Waldo Daniels)</td>\n",
       "      <td>female</td>\n",
       "      <td>25.0000</td>\n",
       "      <td>1</td>\n",
       "      <td>2</td>\n",
       "      <td>151.5500</td>\n",
       "      <td>S</td>\n",
       "      <td>0</td>\n",
       "    </tr>\n",
       "  </tbody>\n",
       "</table>\n",
       "</div>"
      ],
      "text/plain": [
       "   pclass                                             name     sex      age  \\\n",
       "0       1                    Allen, Miss. Elisabeth Walton  female  29.0000   \n",
       "1       1                   Allison, Master. Hudson Trevor    male   0.9167   \n",
       "2       1                     Allison, Miss. Helen Loraine  female   2.0000   \n",
       "3       1             Allison, Mr. Hudson Joshua Creighton    male  30.0000   \n",
       "4       1  Allison, Mrs. Hudson J C (Bessie Waldo Daniels)  female  25.0000   \n",
       "\n",
       "   sibsp  parch      fare embarked  target  \n",
       "0      0      0  211.3375        S       1  \n",
       "1      1      2  151.5500        S       1  \n",
       "2      1      2  151.5500        S       0  \n",
       "3      1      2  151.5500        S       0  \n",
       "4      1      2  151.5500        S       0  "
      ]
     },
     "execution_count": 5,
     "metadata": {},
     "output_type": "execute_result"
    }
   ],
   "source": [
    "df.drop(['cabin', 'ticket'], axis=1, inplace=True)\n",
    "df.head()"
   ]
  },
  {
   "cell_type": "code",
   "execution_count": 6,
   "metadata": {
    "ExecuteTime": {
     "end_time": "2018-07-23T15:46:23.631906Z",
     "start_time": "2018-07-23T15:46:23.606954Z"
    }
   },
   "outputs": [
    {
     "data": {
      "text/html": [
       "<div>\n",
       "<style scoped>\n",
       "    .dataframe tbody tr th:only-of-type {\n",
       "        vertical-align: middle;\n",
       "    }\n",
       "\n",
       "    .dataframe tbody tr th {\n",
       "        vertical-align: top;\n",
       "    }\n",
       "\n",
       "    .dataframe thead th {\n",
       "        text-align: right;\n",
       "    }\n",
       "</style>\n",
       "<table border=\"1\" class=\"dataframe\">\n",
       "  <thead>\n",
       "    <tr style=\"text-align: right;\">\n",
       "      <th></th>\n",
       "      <th>pclass</th>\n",
       "      <th>name</th>\n",
       "      <th>sex</th>\n",
       "      <th>age</th>\n",
       "      <th>sibsp</th>\n",
       "      <th>parch</th>\n",
       "      <th>fare</th>\n",
       "      <th>embarked</th>\n",
       "      <th>target</th>\n",
       "    </tr>\n",
       "  </thead>\n",
       "  <tbody>\n",
       "    <tr>\n",
       "      <th>0</th>\n",
       "      <td>1</td>\n",
       "      <td>Allen, Miss. Elisabeth Walton</td>\n",
       "      <td>female</td>\n",
       "      <td>29.0000</td>\n",
       "      <td>0</td>\n",
       "      <td>0</td>\n",
       "      <td>211.3375</td>\n",
       "      <td>S</td>\n",
       "      <td>1</td>\n",
       "    </tr>\n",
       "    <tr>\n",
       "      <th>1</th>\n",
       "      <td>1</td>\n",
       "      <td>Allison, Master. Hudson Trevor</td>\n",
       "      <td>male</td>\n",
       "      <td>0.9167</td>\n",
       "      <td>1</td>\n",
       "      <td>2</td>\n",
       "      <td>151.5500</td>\n",
       "      <td>S</td>\n",
       "      <td>1</td>\n",
       "    </tr>\n",
       "    <tr>\n",
       "      <th>2</th>\n",
       "      <td>1</td>\n",
       "      <td>Allison, Miss. Helen Loraine</td>\n",
       "      <td>female</td>\n",
       "      <td>2.0000</td>\n",
       "      <td>1</td>\n",
       "      <td>2</td>\n",
       "      <td>151.5500</td>\n",
       "      <td>S</td>\n",
       "      <td>0</td>\n",
       "    </tr>\n",
       "    <tr>\n",
       "      <th>3</th>\n",
       "      <td>1</td>\n",
       "      <td>Allison, Mr. Hudson Joshua Creighton</td>\n",
       "      <td>male</td>\n",
       "      <td>30.0000</td>\n",
       "      <td>1</td>\n",
       "      <td>2</td>\n",
       "      <td>151.5500</td>\n",
       "      <td>S</td>\n",
       "      <td>0</td>\n",
       "    </tr>\n",
       "    <tr>\n",
       "      <th>4</th>\n",
       "      <td>1</td>\n",
       "      <td>Allison, Mrs. Hudson J C (Bessie Waldo Daniels)</td>\n",
       "      <td>female</td>\n",
       "      <td>25.0000</td>\n",
       "      <td>1</td>\n",
       "      <td>2</td>\n",
       "      <td>151.5500</td>\n",
       "      <td>S</td>\n",
       "      <td>0</td>\n",
       "    </tr>\n",
       "  </tbody>\n",
       "</table>\n",
       "</div>"
      ],
      "text/plain": [
       "   pclass                                             name     sex      age  \\\n",
       "0       1                    Allen, Miss. Elisabeth Walton  female  29.0000   \n",
       "1       1                   Allison, Master. Hudson Trevor    male   0.9167   \n",
       "2       1                     Allison, Miss. Helen Loraine  female   2.0000   \n",
       "3       1             Allison, Mr. Hudson Joshua Creighton    male  30.0000   \n",
       "4       1  Allison, Mrs. Hudson J C (Bessie Waldo Daniels)  female  25.0000   \n",
       "\n",
       "   sibsp  parch      fare embarked  target  \n",
       "0      0      0  211.3375        S       1  \n",
       "1      1      2  151.5500        S       1  \n",
       "2      1      2  151.5500        S       0  \n",
       "3      1      2  151.5500        S       0  \n",
       "4      1      2  151.5500        S       0  "
      ]
     },
     "execution_count": 6,
     "metadata": {},
     "output_type": "execute_result"
    }
   ],
   "source": [
    "df.dropna(subset=['age','fare','embarked'], inplace=True)\n",
    "df.head()"
   ]
  },
  {
   "cell_type": "code",
   "execution_count": 7,
   "metadata": {
    "ExecuteTime": {
     "end_time": "2018-07-23T15:46:23.642794Z",
     "start_time": "2018-07-23T15:46:23.635424Z"
    }
   },
   "outputs": [
    {
     "data": {
      "text/plain": [
       "Index(['pclass', 'name', 'sex', 'age', 'sibsp', 'parch', 'fare', 'embarked',\n",
       "       'target'],\n",
       "      dtype='object')"
      ]
     },
     "execution_count": 7,
     "metadata": {},
     "output_type": "execute_result"
    }
   ],
   "source": [
    "df.columns"
   ]
  },
  {
   "cell_type": "code",
   "execution_count": 8,
   "metadata": {
    "ExecuteTime": {
     "end_time": "2018-07-23T15:46:23.664607Z",
     "start_time": "2018-07-23T15:46:23.646373Z"
    }
   },
   "outputs": [
    {
     "data": {
      "text/html": [
       "<div>\n",
       "<style scoped>\n",
       "    .dataframe tbody tr th:only-of-type {\n",
       "        vertical-align: middle;\n",
       "    }\n",
       "\n",
       "    .dataframe tbody tr th {\n",
       "        vertical-align: top;\n",
       "    }\n",
       "\n",
       "    .dataframe thead th {\n",
       "        text-align: right;\n",
       "    }\n",
       "</style>\n",
       "<table border=\"1\" class=\"dataframe\">\n",
       "  <thead>\n",
       "    <tr style=\"text-align: right;\">\n",
       "      <th></th>\n",
       "      <th>pclass</th>\n",
       "      <th>sex</th>\n",
       "      <th>age</th>\n",
       "      <th>sibsp</th>\n",
       "      <th>parch</th>\n",
       "      <th>fare</th>\n",
       "      <th>embarked</th>\n",
       "      <th>target</th>\n",
       "    </tr>\n",
       "    <tr>\n",
       "      <th>name</th>\n",
       "      <th></th>\n",
       "      <th></th>\n",
       "      <th></th>\n",
       "      <th></th>\n",
       "      <th></th>\n",
       "      <th></th>\n",
       "      <th></th>\n",
       "      <th></th>\n",
       "    </tr>\n",
       "  </thead>\n",
       "  <tbody>\n",
       "    <tr>\n",
       "      <th>Allen, Miss. Elisabeth Walton</th>\n",
       "      <td>1</td>\n",
       "      <td>female</td>\n",
       "      <td>29.0000</td>\n",
       "      <td>0</td>\n",
       "      <td>0</td>\n",
       "      <td>211.3375</td>\n",
       "      <td>S</td>\n",
       "      <td>1</td>\n",
       "    </tr>\n",
       "    <tr>\n",
       "      <th>Allison, Master. Hudson Trevor</th>\n",
       "      <td>1</td>\n",
       "      <td>male</td>\n",
       "      <td>0.9167</td>\n",
       "      <td>1</td>\n",
       "      <td>2</td>\n",
       "      <td>151.5500</td>\n",
       "      <td>S</td>\n",
       "      <td>1</td>\n",
       "    </tr>\n",
       "    <tr>\n",
       "      <th>Allison, Miss. Helen Loraine</th>\n",
       "      <td>1</td>\n",
       "      <td>female</td>\n",
       "      <td>2.0000</td>\n",
       "      <td>1</td>\n",
       "      <td>2</td>\n",
       "      <td>151.5500</td>\n",
       "      <td>S</td>\n",
       "      <td>0</td>\n",
       "    </tr>\n",
       "    <tr>\n",
       "      <th>Allison, Mr. Hudson Joshua Creighton</th>\n",
       "      <td>1</td>\n",
       "      <td>male</td>\n",
       "      <td>30.0000</td>\n",
       "      <td>1</td>\n",
       "      <td>2</td>\n",
       "      <td>151.5500</td>\n",
       "      <td>S</td>\n",
       "      <td>0</td>\n",
       "    </tr>\n",
       "    <tr>\n",
       "      <th>Allison, Mrs. Hudson J C (Bessie Waldo Daniels)</th>\n",
       "      <td>1</td>\n",
       "      <td>female</td>\n",
       "      <td>25.0000</td>\n",
       "      <td>1</td>\n",
       "      <td>2</td>\n",
       "      <td>151.5500</td>\n",
       "      <td>S</td>\n",
       "      <td>0</td>\n",
       "    </tr>\n",
       "  </tbody>\n",
       "</table>\n",
       "</div>"
      ],
      "text/plain": [
       "                                                 pclass     sex      age  \\\n",
       "name                                                                       \n",
       "Allen, Miss. Elisabeth Walton                         1  female  29.0000   \n",
       "Allison, Master. Hudson Trevor                        1    male   0.9167   \n",
       "Allison, Miss. Helen Loraine                          1  female   2.0000   \n",
       "Allison, Mr. Hudson Joshua Creighton                  1    male  30.0000   \n",
       "Allison, Mrs. Hudson J C (Bessie Waldo Daniels)       1  female  25.0000   \n",
       "\n",
       "                                                 sibsp  parch      fare  \\\n",
       "name                                                                      \n",
       "Allen, Miss. Elisabeth Walton                        0      0  211.3375   \n",
       "Allison, Master. Hudson Trevor                       1      2  151.5500   \n",
       "Allison, Miss. Helen Loraine                         1      2  151.5500   \n",
       "Allison, Mr. Hudson Joshua Creighton                 1      2  151.5500   \n",
       "Allison, Mrs. Hudson J C (Bessie Waldo Daniels)      1      2  151.5500   \n",
       "\n",
       "                                                embarked  target  \n",
       "name                                                              \n",
       "Allen, Miss. Elisabeth Walton                          S       1  \n",
       "Allison, Master. Hudson Trevor                         S       1  \n",
       "Allison, Miss. Helen Loraine                           S       0  \n",
       "Allison, Mr. Hudson Joshua Creighton                   S       0  \n",
       "Allison, Mrs. Hudson J C (Bessie Waldo Daniels)        S       0  "
      ]
     },
     "execution_count": 8,
     "metadata": {},
     "output_type": "execute_result"
    }
   ],
   "source": [
    "df.set_index(['name'], inplace=True)\n",
    "df.head()"
   ]
  },
  {
   "cell_type": "code",
   "execution_count": 9,
   "metadata": {
    "ExecuteTime": {
     "end_time": "2018-07-23T15:46:23.703579Z",
     "start_time": "2018-07-23T15:46:23.668212Z"
    }
   },
   "outputs": [
    {
     "data": {
      "text/html": [
       "<div>\n",
       "<style scoped>\n",
       "    .dataframe tbody tr th:only-of-type {\n",
       "        vertical-align: middle;\n",
       "    }\n",
       "\n",
       "    .dataframe tbody tr th {\n",
       "        vertical-align: top;\n",
       "    }\n",
       "\n",
       "    .dataframe thead th {\n",
       "        text-align: right;\n",
       "    }\n",
       "</style>\n",
       "<table border=\"1\" class=\"dataframe\">\n",
       "  <thead>\n",
       "    <tr style=\"text-align: right;\">\n",
       "      <th></th>\n",
       "      <th>pclass</th>\n",
       "      <th>age</th>\n",
       "      <th>sibsp</th>\n",
       "      <th>parch</th>\n",
       "      <th>fare</th>\n",
       "      <th>target</th>\n",
       "      <th>sex_male</th>\n",
       "      <th>embarked_Q</th>\n",
       "      <th>embarked_S</th>\n",
       "    </tr>\n",
       "    <tr>\n",
       "      <th>name</th>\n",
       "      <th></th>\n",
       "      <th></th>\n",
       "      <th></th>\n",
       "      <th></th>\n",
       "      <th></th>\n",
       "      <th></th>\n",
       "      <th></th>\n",
       "      <th></th>\n",
       "      <th></th>\n",
       "    </tr>\n",
       "  </thead>\n",
       "  <tbody>\n",
       "    <tr>\n",
       "      <th>Allen, Miss. Elisabeth Walton</th>\n",
       "      <td>1</td>\n",
       "      <td>29.0000</td>\n",
       "      <td>0</td>\n",
       "      <td>0</td>\n",
       "      <td>211.3375</td>\n",
       "      <td>1</td>\n",
       "      <td>0</td>\n",
       "      <td>0</td>\n",
       "      <td>1</td>\n",
       "    </tr>\n",
       "    <tr>\n",
       "      <th>Allison, Master. Hudson Trevor</th>\n",
       "      <td>1</td>\n",
       "      <td>0.9167</td>\n",
       "      <td>1</td>\n",
       "      <td>2</td>\n",
       "      <td>151.5500</td>\n",
       "      <td>1</td>\n",
       "      <td>1</td>\n",
       "      <td>0</td>\n",
       "      <td>1</td>\n",
       "    </tr>\n",
       "    <tr>\n",
       "      <th>Allison, Miss. Helen Loraine</th>\n",
       "      <td>1</td>\n",
       "      <td>2.0000</td>\n",
       "      <td>1</td>\n",
       "      <td>2</td>\n",
       "      <td>151.5500</td>\n",
       "      <td>0</td>\n",
       "      <td>0</td>\n",
       "      <td>0</td>\n",
       "      <td>1</td>\n",
       "    </tr>\n",
       "    <tr>\n",
       "      <th>Allison, Mr. Hudson Joshua Creighton</th>\n",
       "      <td>1</td>\n",
       "      <td>30.0000</td>\n",
       "      <td>1</td>\n",
       "      <td>2</td>\n",
       "      <td>151.5500</td>\n",
       "      <td>0</td>\n",
       "      <td>1</td>\n",
       "      <td>0</td>\n",
       "      <td>1</td>\n",
       "    </tr>\n",
       "    <tr>\n",
       "      <th>Allison, Mrs. Hudson J C (Bessie Waldo Daniels)</th>\n",
       "      <td>1</td>\n",
       "      <td>25.0000</td>\n",
       "      <td>1</td>\n",
       "      <td>2</td>\n",
       "      <td>151.5500</td>\n",
       "      <td>0</td>\n",
       "      <td>0</td>\n",
       "      <td>0</td>\n",
       "      <td>1</td>\n",
       "    </tr>\n",
       "  </tbody>\n",
       "</table>\n",
       "</div>"
      ],
      "text/plain": [
       "                                                 pclass      age  sibsp  \\\n",
       "name                                                                      \n",
       "Allen, Miss. Elisabeth Walton                         1  29.0000      0   \n",
       "Allison, Master. Hudson Trevor                        1   0.9167      1   \n",
       "Allison, Miss. Helen Loraine                          1   2.0000      1   \n",
       "Allison, Mr. Hudson Joshua Creighton                  1  30.0000      1   \n",
       "Allison, Mrs. Hudson J C (Bessie Waldo Daniels)       1  25.0000      1   \n",
       "\n",
       "                                                 parch      fare  target  \\\n",
       "name                                                                       \n",
       "Allen, Miss. Elisabeth Walton                        0  211.3375       1   \n",
       "Allison, Master. Hudson Trevor                       2  151.5500       1   \n",
       "Allison, Miss. Helen Loraine                         2  151.5500       0   \n",
       "Allison, Mr. Hudson Joshua Creighton                 2  151.5500       0   \n",
       "Allison, Mrs. Hudson J C (Bessie Waldo Daniels)      2  151.5500       0   \n",
       "\n",
       "                                                 sex_male  embarked_Q  \\\n",
       "name                                                                    \n",
       "Allen, Miss. Elisabeth Walton                           0           0   \n",
       "Allison, Master. Hudson Trevor                          1           0   \n",
       "Allison, Miss. Helen Loraine                            0           0   \n",
       "Allison, Mr. Hudson Joshua Creighton                    1           0   \n",
       "Allison, Mrs. Hudson J C (Bessie Waldo Daniels)         0           0   \n",
       "\n",
       "                                                 embarked_S  \n",
       "name                                                         \n",
       "Allen, Miss. Elisabeth Walton                             1  \n",
       "Allison, Master. Hudson Trevor                            1  \n",
       "Allison, Miss. Helen Loraine                              1  \n",
       "Allison, Mr. Hudson Joshua Creighton                      1  \n",
       "Allison, Mrs. Hudson J C (Bessie Waldo Daniels)           1  "
      ]
     },
     "execution_count": 9,
     "metadata": {},
     "output_type": "execute_result"
    }
   ],
   "source": [
    "df = pd.get_dummies(df, drop_first=True)\n",
    "df.head()"
   ]
  },
  {
   "cell_type": "markdown",
   "metadata": {},
   "source": [
    "## Exploratory Data Analysis\n",
    "\n",
    "We now look at the pairplot of the features to see if there are visible predictor for our target."
   ]
  },
  {
   "cell_type": "code",
   "execution_count": 10,
   "metadata": {
    "ExecuteTime": {
     "end_time": "2018-07-23T15:46:35.008180Z",
     "start_time": "2018-07-23T15:46:23.708615Z"
    }
   },
   "outputs": [
    {
     "data": {
      "text/plain": [
       "<seaborn.axisgrid.PairGrid at 0x115c42eb8>"
      ]
     },
     "execution_count": 10,
     "metadata": {},
     "output_type": "execute_result"
    },
    {
     "data": {
      "image/png": "[encoded data removed]",
      "text/plain": [
       "<matplotlib.figure.Figure at 0x1118073c8>"
      ]
     },
     "metadata": {},
     "output_type": "display_data"
    }
   ],
   "source": [
    "import matplotlib.pyplot as plt\n",
    "%matplotlib inline\n",
    "import seaborn as sns\n",
    "sns.pairplot(df, hue=\"target\")"
   ]
  },
  {
   "cell_type": "markdown",
   "metadata": {},
   "source": [
    "Note that we cannot clearly separate the variables thus we look for other ways to determine the predictor.\n",
    "\n",
    "In the code below, we do some scaling because we only have a few models where scaling is not necessary. We are doing this because we are generalizing the models to be used later on."
   ]
  },
  {
   "cell_type": "code",
   "execution_count": 11,
   "metadata": {
    "ExecuteTime": {
     "end_time": "2018-07-23T15:46:35.070076Z",
     "start_time": "2018-07-23T15:46:35.011739Z"
    }
   },
   "outputs": [],
   "source": [
    "from sklearn.preprocessing import MinMaxScaler\n",
    "from sklearn.preprocessing import StandardScaler\n",
    "\n",
    "# scaler = MinMaxScaler()\n",
    "scaler = StandardScaler()\n",
    "\n",
    "X = df.drop(columns=['target'])\n",
    "y = df[['target']]\n",
    "\n",
    "cols = X.columns\n",
    "X = pd.DataFrame(scaler.fit_transform(X))\n",
    "X.columns = cols"
   ]
  },
  {
   "cell_type": "markdown",
   "metadata": {},
   "source": [
    "We calculate the __Proportional Chance Criterion (PCC)__. In practice, PCC multiplied by 1.25 gives us the percentage score that would allow us to decide on whether or not we have a good classifier."
   ]
  },
  {
   "cell_type": "code",
   "execution_count": 12,
   "metadata": {
    "ExecuteTime": {
     "end_time": "2018-07-23T15:46:35.262983Z",
     "start_time": "2018-07-23T15:46:35.073279Z"
    }
   },
   "outputs": [
    {
     "data": {
      "image/png": "[encoded data removed]",
      "text/plain": [
       "<matplotlib.figure.Figure at 0x1a25235cf8>"
      ]
     },
     "metadata": {},
     "output_type": "display_data"
    }
   ],
   "source": [
    "state_counts = Counter(df['target'])\n",
    "df_state = pd.DataFrame.from_dict(state_counts, orient='index')\n",
    "df_state.plot(kind='bar', colormap='tab10')\n",
    "\n",
    "pcc1 = (df_state[0]/df_state[0].sum())**2\n",
    "score_to_beat = 1.25*100*pcc1.sum()\n",
    "plt.title(\"1.25 * PCC: {}%\".format(score_to_beat));\n",
    "plt.legend().set_visible(False)"
   ]
  },
  {
   "cell_type": "markdown",
   "metadata": {},
   "source": [
    "## Model\n",
    "\n",
    "We will be using the following models for the classifier problem:\n",
    "* [KNN](http://scikit-learn.org/stable/modules/generated/sklearn.neighbors.KNeighborsClassifier.html)\n",
    "* [Logistic Regression (L1 and L2)](http://scikit-learn.org/stable/modules/generated/sklearn.linear_model.LogisticRegression.html)\n",
    "* [Linear SVM (L1 and L2)](http://scikit-learn.org/stable/modules/generated/sklearn.svm.LinearSVC.html)   \n",
    "* [Decision Tree](http://scikit-learn.org/stable/modules/tree.html)\n",
    "* [Random Forest](http://scikit-learn.org/stable/modules/generated/sklearn.ensemble.RandomForestClassifier.html)\n",
    "* [Gradient Boosting Machine (GBM)](http://scikit-learn.org/stable/modules/generated/sklearn.ensemble.GradientBoostingClassifier.html)"
   ]
  },
  {
   "cell_type": "code",
   "execution_count": 13,
   "metadata": {
    "ExecuteTime": {
     "end_time": "2018-07-23T15:46:35.951742Z",
     "start_time": "2018-07-23T15:46:35.267857Z"
    }
   },
   "outputs": [],
   "source": [
    "from sklearn.neighbors import KNeighborsClassifier\n",
    "from sklearn.linear_model import LogisticRegression\n",
    "from sklearn.svm import LinearSVC\n",
    "from sklearn.tree import DecisionTreeClassifier\n",
    "from sklearn.ensemble import RandomForestClassifier\n",
    "from sklearn.ensemble import GradientBoostingClassifier\n",
    "from sklearn.model_selection import train_test_split\n",
    "\n",
    "\n",
    "def train_KNN(X, y, n_neighbors=20, random_states=10):\n",
    "\n",
    "    res = pd.DataFrame(\n",
    "        columns=['n_neighbors', 'mean train score', 'std train score',\n",
    "                 'mean test score', 'std test score'])\n",
    "\n",
    "    #i = n_neighbors\n",
    "    for i in range(1, n_neighbors+1):\n",
    "        train_scores = []\n",
    "        test_scores = []\n",
    "\n",
    "        #ii = random_state\n",
    "        for ii in range(0, random_states):\n",
    "            X_train, X_test, y_train, y_test = train_test_split(\n",
    "                X, y, test_size=0.25, random_state=ii)\n",
    "\n",
    "            clf = KNeighborsClassifier(n_neighbors=i)\n",
    "            clf.fit(X_train, y_train)\n",
    "\n",
    "            train_scores.append(clf.score(X_train, y_train))\n",
    "            test_scores.append(clf.score(X_test, y_test))\n",
    "\n",
    "        res.loc[i] = [i, np.mean(train_scores) * 100,\n",
    "                      np.std(train_scores),\n",
    "                      np.mean(test_scores)*100,\n",
    "                      np.std(test_scores)]\n",
    "    summary_ = ['KNN',\n",
    "                res['mean test score'].max(),\n",
    "                'N_Neighbor = {0}'.format(\n",
    "                    res['n_neighbors'][res['mean test score'].idxmax()]),\n",
    "                'NA']\n",
    "    \n",
    "    fc = pd.DataFrame(columns=['features', 'coeff'])\n",
    "    \n",
    "    return summary_, fc\n",
    "\n",
    "def train_Linear(X, y, C, ml_method='Logistic', penalty='l1', random_states=10):\n",
    "\n",
    "    res = pd.DataFrame(\n",
    "        columns=['C', 'mean train score', 'std train score',\n",
    "                 'mean test score', 'std test score', 'Top Predictor Variable'])\n",
    "\n",
    "    weighted_coefs = []\n",
    "\n",
    "    for i in C:\n",
    "        train_scores = []\n",
    "        test_scores = []\n",
    "        coefs = []\n",
    "\n",
    "        #ii = random_state\n",
    "        for ii in range(0, random_states):\n",
    "            X_train, X_test, y_train, y_test = train_test_split(\n",
    "                X, y, test_size=0.25, random_state=ii)\n",
    "\n",
    "            if ml_method == 'Logistic':\n",
    "                clf = LogisticRegression(C=i, penalty=penalty)\n",
    "            elif ml_method == 'Linear SVM':\n",
    "                if penalty == \"l1\":\n",
    "                    clf = LinearSVC(C=i, penalty=\"l1\",\n",
    "                                    loss='squared_hinge', dual=False)\n",
    "                else:\n",
    "                    clf = LinearSVC(C=i, penalty=\"l2\")\n",
    "            else:\n",
    "                raise ValueError('ml_method not recognized')\n",
    "\n",
    "            clf.fit(X_train, y_train)\n",
    "\n",
    "            train_scores.append(clf.score(X_train, y_train))\n",
    "            test_scores.append(clf.score(X_test, y_test))\n",
    "            coefs.append(np.absolute(clf.coef_[0]))\n",
    "\n",
    "            # store feature coefficients for this C value\n",
    "            if i == 0.1:\n",
    "                weighted_coefs.append(clf.coef_)\n",
    "\n",
    "        res.loc[i] = [i, np.mean(train_scores) * 100,\n",
    "                      np.std(train_scores),\n",
    "                      np.mean(test_scores)*100,\n",
    "                      np.std(test_scores),\n",
    "                      list(X)[np.argmax(np.mean(coefs, axis=0))]]\n",
    "\n",
    "    # store feature coefficients in a dataframe\n",
    "    mean_coefs = np.mean(weighted_coefs, axis=0)\n",
    "    fc = pd.DataFrame(columns=['features', 'coeff'])\n",
    "    fc['features'] = list(X)\n",
    "    fc['coeff'] = np.abs(mean_coefs[0]).tolist()\n",
    "    fc.set_index('features', inplace=True)\n",
    "    fc = fc.sort_values('coeff')\n",
    "\n",
    "    # results summary for max test score\n",
    "    summary_ = ['{0} {1}'.format(ml_method, penalty),\n",
    "                res['mean test score'].max(),\n",
    "                'C = {0}'.format(\n",
    "        res['C'][res['mean test score'].idxmax()]),\n",
    "        res['Top Predictor Variable'][res.index[res['C'] == 0.1].tolist()[0]]]\n",
    "\n",
    "    return summary_, fc\n",
    "\n",
    "def train_Tree(X, y, ml_method='Decision Tree', depth=5, random_states=10):\n",
    "\n",
    "    res = pd.DataFrame(\n",
    "        columns=['depth', 'mean train score', 'std train score',\n",
    "                 'mean test score', 'std test score', 'mean_coef'])\n",
    "\n",
    "    #i = depth\n",
    "    for i in range(2, depth+1):\n",
    "        train_scores = []\n",
    "        test_scores = []\n",
    "        coefs = []\n",
    "\n",
    "        #ii = random_state\n",
    "        for ii in range(0, random_states):\n",
    "            X_train, X_test, y_train, y_test = train_test_split(\n",
    "                X, y, test_size=0.25, random_state=ii)\n",
    "            \n",
    "            if ml_method == 'Decision Tree':\n",
    "                clf = DecisionTreeClassifier(max_depth=i, random_state=10)\n",
    "            elif ml_method == 'Random Forest':\n",
    "                clf = RandomForestClassifier(max_depth=i, random_state=10, n_estimators=100)\n",
    "            elif ml_method == 'GBM':\n",
    "                clf = GradientBoostingClassifier(max_depth=i, random_state=0, learning_rate=0.1)\n",
    "            else:\n",
    "                raise ValueError('ml_method not recognized')\n",
    "            \n",
    "            clf.fit(X_train, y_train)\n",
    "\n",
    "            train_scores.append(clf.score(X_train, y_train))\n",
    "            test_scores.append(clf.score(X_test, y_test))\n",
    "            coefs.append(clf.feature_importances_)\n",
    "                \n",
    "        res.loc[i] = [i, np.mean(train_scores) * 100,\n",
    "                      np.std(train_scores),\n",
    "                      np.mean(test_scores)*100,\n",
    "                      np.std(test_scores),\n",
    "                      np.mean(coefs, axis=0)]\n",
    "    \n",
    "    mean_coefs = res['mean_coef'][res['mean test score'].idxmax()]\n",
    "    fc = pd.DataFrame(columns=['features', 'coeff'])\n",
    "    fc['features'] = list(X)\n",
    "    fc['coeff'] = np.abs(mean_coefs).tolist()\n",
    "    fc.set_index('features', inplace=True)\n",
    "    fc = fc.sort_values('coeff')\n",
    "    \n",
    "    summary_ = [ml_method,\n",
    "                res['mean test score'].max(),\n",
    "                'depth = {0}'.format(res['depth'][res['mean test score'].idxmax()]),\n",
    "                fc['coeff'].idxmax()]\n",
    "\n",
    "    return summary_, fc"
   ]
  },
  {
   "cell_type": "code",
   "execution_count": 14,
   "metadata": {
    "ExecuteTime": {
     "end_time": "2018-07-23T15:46:55.832688Z",
     "start_time": "2018-07-23T15:46:35.954408Z"
    }
   },
   "outputs": [],
   "source": [
    "C = [1e-8, 1e-4, 1e-3, 1e-2, 0.1, 0.2, 0.4, 0.75, 1, 1.5, 3, 5, 10, 15,  20, 100, 300, 1000, 5000]\n",
    "\n",
    "model = []\n",
    "\n",
    "model.append(train_KNN(X, y['target']))\n",
    "model.append(train_Linear(X, y['target'], C, ml_method='Logistic', penalty='l2'))\n",
    "model.append(train_Linear(X, y['target'], C, ml_method='Logistic', penalty='l1'))\n",
    "model.append(train_Linear(X, y['target'], C, ml_method='Linear SVM', penalty='l2'))\n",
    "model.append(train_Linear(X, y['target'], C, ml_method='Linear SVM', penalty='l1'))\n",
    "model.append(train_Tree(X, y['target'], ml_method='Decision Tree', depth=5))\n",
    "model.append(train_Tree(X, y['target'], ml_method='Random Forest', depth=5))\n",
    "model.append(train_Tree(X, y['target'], ml_method='GBM', depth=5))"
   ]
  },
  {
   "cell_type": "code",
   "execution_count": 15,
   "metadata": {
    "ExecuteTime": {
     "end_time": "2018-07-23T15:46:55.898781Z",
     "start_time": "2018-07-23T15:46:55.836288Z"
    }
   },
   "outputs": [
    {
     "data": {
      "text/html": [
       "<div>\n",
       "<style scoped>\n",
       "    .dataframe tbody tr th:only-of-type {\n",
       "        vertical-align: middle;\n",
       "    }\n",
       "\n",
       "    .dataframe tbody tr th {\n",
       "        vertical-align: top;\n",
       "    }\n",
       "\n",
       "    .dataframe thead th {\n",
       "        text-align: right;\n",
       "    }\n",
       "</style>\n",
       "<table border=\"1\" class=\"dataframe\">\n",
       "  <thead>\n",
       "    <tr style=\"text-align: right;\">\n",
       "      <th></th>\n",
       "      <th>Machine Learning Method</th>\n",
       "      <th>Test Accuracy</th>\n",
       "      <th>Best Parameter</th>\n",
       "      <th>Top Predictor Variable</th>\n",
       "    </tr>\n",
       "  </thead>\n",
       "  <tbody>\n",
       "    <tr>\n",
       "      <th>0</th>\n",
       "      <td>KNN</td>\n",
       "      <td>79.655172</td>\n",
       "      <td>N_Neighbor = 10.0</td>\n",
       "      <td>NA</td>\n",
       "    </tr>\n",
       "    <tr>\n",
       "      <th>1</th>\n",
       "      <td>Logistic l2</td>\n",
       "      <td>77.356322</td>\n",
       "      <td>C = 3.0</td>\n",
       "      <td>sex_male</td>\n",
       "    </tr>\n",
       "    <tr>\n",
       "      <th>2</th>\n",
       "      <td>Logistic l1</td>\n",
       "      <td>77.356322</td>\n",
       "      <td>C = 3.0</td>\n",
       "      <td>sex_male</td>\n",
       "    </tr>\n",
       "    <tr>\n",
       "      <th>3</th>\n",
       "      <td>Linear SVM l2</td>\n",
       "      <td>77.356322</td>\n",
       "      <td>C = 0.1</td>\n",
       "      <td>sex_male</td>\n",
       "    </tr>\n",
       "    <tr>\n",
       "      <th>4</th>\n",
       "      <td>Linear SVM l1</td>\n",
       "      <td>77.279693</td>\n",
       "      <td>C = 0.01</td>\n",
       "      <td>sex_male</td>\n",
       "    </tr>\n",
       "    <tr>\n",
       "      <th>5</th>\n",
       "      <td>Decision Tree</td>\n",
       "      <td>79.693487</td>\n",
       "      <td>depth = 3</td>\n",
       "      <td>sex_male</td>\n",
       "    </tr>\n",
       "    <tr>\n",
       "      <th>6</th>\n",
       "      <td>Random Forest</td>\n",
       "      <td>79.693487</td>\n",
       "      <td>depth = 5</td>\n",
       "      <td>sex_male</td>\n",
       "    </tr>\n",
       "    <tr>\n",
       "      <th>7</th>\n",
       "      <td>GBM</td>\n",
       "      <td>80.727969</td>\n",
       "      <td>depth = 4</td>\n",
       "      <td>fare</td>\n",
       "    </tr>\n",
       "  </tbody>\n",
       "</table>\n",
       "</div>"
      ],
      "text/plain": [
       "  Machine Learning Method  Test Accuracy     Best Parameter  \\\n",
       "0                     KNN      79.655172  N_Neighbor = 10.0   \n",
       "1             Logistic l2      77.356322            C = 3.0   \n",
       "2             Logistic l1      77.356322            C = 3.0   \n",
       "3           Linear SVM l2      77.356322            C = 0.1   \n",
       "4           Linear SVM l1      77.279693           C = 0.01   \n",
       "5           Decision Tree      79.693487          depth = 3   \n",
       "6           Random Forest      79.693487          depth = 5   \n",
       "7                     GBM      80.727969          depth = 4   \n",
       "\n",
       "  Top Predictor Variable  \n",
       "0                     NA  \n",
       "1               sex_male  \n",
       "2               sex_male  \n",
       "3               sex_male  \n",
       "4               sex_male  \n",
       "5               sex_male  \n",
       "6               sex_male  \n",
       "7                   fare  "
      ]
     },
     "metadata": {},
     "output_type": "display_data"
    }
   ],
   "source": [
    "df2 = pd.DataFrame(columns=['Machine Learning Method', 'Test Accuracy',\n",
    "        'Best Parameter', 'Top Predictor Variable'])\n",
    "\n",
    "for i in range(8):\n",
    "    df2.loc[i] = model[i][0]\n",
    "\n",
    "display(df2)"
   ]
  },
  {
   "cell_type": "markdown",
   "metadata": {},
   "source": [
    "## Conclusion\n",
    "\n",
    "From the above data, we could see that the highest accuracy is given by Gradient Boosting Method at 80.72% test accuracy with top predictor variable of fare. We have next Decision Tree and Random Forest model with test accuracy tied at 79.69% having sex as top predictor variable but with different depths.\n",
    "\n",
    "Looking at the predictors for survival, we could see that it is how the society works. If we can recall in the movie, the ones who are at the top floors(i.e. paid more) are prioritized to be saved and also the women. This is reflected in our model."
   ]
  },
  {
   "cell_type": "markdown",
   "metadata": {},
   "source": [
    "## Citations\n",
    "\n",
    "https://www.kaggle.com/c/titanic/data\n",
    "\n",
    "I would like to thank Prof. Chris Monterola, Prof. Erika Legara, Joseph Bunao and Jon Colipapa for their help in the construction of this notebook."
   ]
  },
  {
   "cell_type": "code",
   "execution_count": null,
   "metadata": {},
   "outputs": [],
   "source": []
  }
 ],
 "metadata": {
  "kernelspec": {
   "display_name": "Python 3",
   "language": "python",
   "name": "python3"
  },
  "language_info": {
   "codemirror_mode": {
    "name": "ipython",
    "version": 3
   },
   "file_extension": ".py",
   "mimetype": "text/x-python",
   "name": "python",
   "nbconvert_exporter": "python",
   "pygments_lexer": "ipython3",
   "version": "3.6.4"
  },
  "latex_envs": {
   "LaTeX_envs_menu_present": true,
   "autoclose": false,
   "autocomplete": true,
   "bibliofile": "biblio.bib",
   "cite_by": "apalike",
   "current_citInitial": 1,
   "eqLabelWithNumbers": true,
   "eqNumInitial": 1,
   "hotkeys": {
    "equation": "Ctrl-E",
    "itemize": "Ctrl-I"
   },
   "labels_anchors": false,
   "latex_user_defs": false,
   "report_style_numbering": false,
   "user_envs_cfg": false
  }
 },
 "nbformat": 4,
 "nbformat_minor": 2
}
