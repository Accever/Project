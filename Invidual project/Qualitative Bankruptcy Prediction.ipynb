{
 "cells": [
  {
   "cell_type": "markdown",
   "metadata": {},
   "source": [
    "# Qualitative Bankruptcy Prediction\n",
    "by: Accever A. Mendoza"
   ]
  },
  {
   "cell_type": "markdown",
   "metadata": {},
   "source": [
    "## Executive Summary\n",
    "\n",
    "The data in this study is the qualitative bankruptcy data set from UCI [1]. We are to classify companies and predict bankruptcy or non-bankruptcy from qualitative features assessed by experts [2]. This study was inspired by the predictive system [3] where the algorithms used are Logistic Regression, Naive Bayes, Neural Networks, Random Forest and RBF Support Vector Machine. We then added kNN, Decision Trees and Gradient Boosting classifiers to potentially increase the test accuracy. In the previous paper, a 70% - 30% train test split was used. The test accuracy achieved is between 97.2% to a maximum of 99.6%. In this paper, we are able get a test accuracy of 97.5% up to 100%. The latter was achieved through Gradient Boosting Method. The top predictors of accuracy were Competitiveness and Credibility."
   ]
  },
  {
   "cell_type": "markdown",
   "metadata": {},
   "source": [
    "## Data Description\n",
    "\n",
    "There are 250 instances in the data with 6 attributes correspnding to the qualitative parameters in bankruptcy.\n",
    "\n",
    "| Feature | Description | Legend  |\n",
    "|:-----:|:-----:|:-----:|:-----:|\n",
    "| __Industrial Risk__ | Government policies and international agreements, competition, sensitivity to changes in macroeconomic factors and competitive power | Positive (P), Average (A), Negative (N)\n",
    "| __Management risk__ | Ability and competence of the management, growth process and business performance, short term andlong term business planning | Positive (P), Average (A), Negative (N)\n",
    "| __Financial Flexibility__ | Forms of financing | Positive (P), Average (A), Negative (N)\n",
    "| __Credibility__ | Credit history, reliability of information and relationship with financial institutes | Positive (P), Average (A), Negative (N)\n",
    "| __Competitiveness__ | Market position, level of core capacities and differentiated strategy | Positive (P), Average (A), Negative (N)\n",
    "| __Operating Risk__ | Stability and diversity of procurement, transaction, efficiency of production, sales diversification, collection of A/R, effectiveness of sale network | Bankruptcy (B), Non-Bankruptcy (NB)"
   ]
  },
  {
   "cell_type": "markdown",
   "metadata": {},
   "source": [
    "## Data Pre-Processing\n",
    "\n",
    "We now look at the data and label the headers. Then we looked into the numbers of bankruptcy or non-bankruptcy to check whether undersampling (or oversampling) needs to be done. The data has a 40% - 60% proportion of bankruptcy and non-bankruptcy respectively.\n",
    "\n",
    "We then proceeded to use `get_dummies` into the target column to convert the categorical variable. Drop_first was used so that we have ones for NB and zeros for B and remove the redundant feature.\n",
    "\n",
    "For the other features in the data set, it was replaced with 0 for Negative, 0.5 for Average and 1 for Positive. This is similar to the concept of MinMaxScaler."
   ]
  },
  {
   "cell_type": "code",
   "execution_count": 40,
   "metadata": {
    "ExecuteTime": {
     "end_time": "2018-08-20T06:06:59.699691Z",
     "start_time": "2018-08-20T06:06:59.693912Z"
    }
   },
   "outputs": [],
   "source": [
    "import pandas as pd\n",
    "import numpy as np\n",
    "import matplotlib.pyplot as plt\n",
    "from collections import Counter\n",
    "import seaborn as sns"
   ]
  },
  {
   "cell_type": "code",
   "execution_count": 2,
   "metadata": {
    "ExecuteTime": {
     "end_time": "2018-08-20T04:44:10.788998Z",
     "start_time": "2018-08-20T04:44:10.751015Z"
    }
   },
   "outputs": [],
   "source": [
    "df = pd.read_csv('Qualitative_Bankruptcy.data.txt', header=None)"
   ]
  },
  {
   "cell_type": "code",
   "execution_count": 3,
   "metadata": {
    "ExecuteTime": {
     "end_time": "2018-08-20T04:44:10.837600Z",
     "start_time": "2018-08-20T04:44:10.793703Z"
    }
   },
   "outputs": [
    {
     "data": {
      "text/html": [
       "<div>\n",
       "<style scoped>\n",
       "    .dataframe tbody tr th:only-of-type {\n",
       "        vertical-align: middle;\n",
       "    }\n",
       "\n",
       "    .dataframe tbody tr th {\n",
       "        vertical-align: top;\n",
       "    }\n",
       "\n",
       "    .dataframe thead th {\n",
       "        text-align: right;\n",
       "    }\n",
       "</style>\n",
       "<table border=\"1\" class=\"dataframe\">\n",
       "  <thead>\n",
       "    <tr style=\"text-align: right;\">\n",
       "      <th></th>\n",
       "      <th>0</th>\n",
       "      <th>1</th>\n",
       "      <th>2</th>\n",
       "      <th>3</th>\n",
       "      <th>4</th>\n",
       "      <th>5</th>\n",
       "      <th>6</th>\n",
       "    </tr>\n",
       "  </thead>\n",
       "  <tbody>\n",
       "    <tr>\n",
       "      <th>0</th>\n",
       "      <td>P</td>\n",
       "      <td>P</td>\n",
       "      <td>A</td>\n",
       "      <td>A</td>\n",
       "      <td>A</td>\n",
       "      <td>P</td>\n",
       "      <td>NB</td>\n",
       "    </tr>\n",
       "    <tr>\n",
       "      <th>1</th>\n",
       "      <td>N</td>\n",
       "      <td>N</td>\n",
       "      <td>A</td>\n",
       "      <td>A</td>\n",
       "      <td>A</td>\n",
       "      <td>N</td>\n",
       "      <td>NB</td>\n",
       "    </tr>\n",
       "    <tr>\n",
       "      <th>2</th>\n",
       "      <td>A</td>\n",
       "      <td>A</td>\n",
       "      <td>A</td>\n",
       "      <td>A</td>\n",
       "      <td>A</td>\n",
       "      <td>A</td>\n",
       "      <td>NB</td>\n",
       "    </tr>\n",
       "    <tr>\n",
       "      <th>3</th>\n",
       "      <td>P</td>\n",
       "      <td>P</td>\n",
       "      <td>P</td>\n",
       "      <td>P</td>\n",
       "      <td>P</td>\n",
       "      <td>P</td>\n",
       "      <td>NB</td>\n",
       "    </tr>\n",
       "    <tr>\n",
       "      <th>4</th>\n",
       "      <td>N</td>\n",
       "      <td>N</td>\n",
       "      <td>P</td>\n",
       "      <td>P</td>\n",
       "      <td>P</td>\n",
       "      <td>N</td>\n",
       "      <td>NB</td>\n",
       "    </tr>\n",
       "  </tbody>\n",
       "</table>\n",
       "</div>"
      ],
      "text/plain": [
       "   0  1  2  3  4  5   6\n",
       "0  P  P  A  A  A  P  NB\n",
       "1  N  N  A  A  A  N  NB\n",
       "2  A  A  A  A  A  A  NB\n",
       "3  P  P  P  P  P  P  NB\n",
       "4  N  N  P  P  P  N  NB"
      ]
     },
     "execution_count": 3,
     "metadata": {},
     "output_type": "execute_result"
    }
   ],
   "source": [
    "df.head()"
   ]
  },
  {
   "cell_type": "code",
   "execution_count": 6,
   "metadata": {
    "ExecuteTime": {
     "end_time": "2018-08-20T04:44:34.273110Z",
     "start_time": "2018-08-20T04:44:34.254763Z"
    }
   },
   "outputs": [
    {
     "data": {
      "text/html": [
       "<div>\n",
       "<style scoped>\n",
       "    .dataframe tbody tr th:only-of-type {\n",
       "        vertical-align: middle;\n",
       "    }\n",
       "\n",
       "    .dataframe tbody tr th {\n",
       "        vertical-align: top;\n",
       "    }\n",
       "\n",
       "    .dataframe thead th {\n",
       "        text-align: right;\n",
       "    }\n",
       "</style>\n",
       "<table border=\"1\" class=\"dataframe\">\n",
       "  <thead>\n",
       "    <tr style=\"text-align: right;\">\n",
       "      <th></th>\n",
       "      <th>Industrial Risk</th>\n",
       "      <th>Management Risk</th>\n",
       "      <th>Financial Flexibility</th>\n",
       "      <th>Credibility</th>\n",
       "      <th>Competitiveness</th>\n",
       "      <th>Operating Risk</th>\n",
       "      <th>Target</th>\n",
       "    </tr>\n",
       "  </thead>\n",
       "  <tbody>\n",
       "    <tr>\n",
       "      <th>0</th>\n",
       "      <td>P</td>\n",
       "      <td>P</td>\n",
       "      <td>A</td>\n",
       "      <td>A</td>\n",
       "      <td>A</td>\n",
       "      <td>P</td>\n",
       "      <td>NB</td>\n",
       "    </tr>\n",
       "    <tr>\n",
       "      <th>1</th>\n",
       "      <td>N</td>\n",
       "      <td>N</td>\n",
       "      <td>A</td>\n",
       "      <td>A</td>\n",
       "      <td>A</td>\n",
       "      <td>N</td>\n",
       "      <td>NB</td>\n",
       "    </tr>\n",
       "    <tr>\n",
       "      <th>2</th>\n",
       "      <td>A</td>\n",
       "      <td>A</td>\n",
       "      <td>A</td>\n",
       "      <td>A</td>\n",
       "      <td>A</td>\n",
       "      <td>A</td>\n",
       "      <td>NB</td>\n",
       "    </tr>\n",
       "    <tr>\n",
       "      <th>3</th>\n",
       "      <td>P</td>\n",
       "      <td>P</td>\n",
       "      <td>P</td>\n",
       "      <td>P</td>\n",
       "      <td>P</td>\n",
       "      <td>P</td>\n",
       "      <td>NB</td>\n",
       "    </tr>\n",
       "    <tr>\n",
       "      <th>4</th>\n",
       "      <td>N</td>\n",
       "      <td>N</td>\n",
       "      <td>P</td>\n",
       "      <td>P</td>\n",
       "      <td>P</td>\n",
       "      <td>N</td>\n",
       "      <td>NB</td>\n",
       "    </tr>\n",
       "  </tbody>\n",
       "</table>\n",
       "</div>"
      ],
      "text/plain": [
       "  Industrial Risk Management Risk Financial Flexibility Credibility  \\\n",
       "0               P               P                     A           A   \n",
       "1               N               N                     A           A   \n",
       "2               A               A                     A           A   \n",
       "3               P               P                     P           P   \n",
       "4               N               N                     P           P   \n",
       "\n",
       "  Competitiveness Operating Risk Target  \n",
       "0               A              P     NB  \n",
       "1               A              N     NB  \n",
       "2               A              A     NB  \n",
       "3               P              P     NB  \n",
       "4               P              N     NB  "
      ]
     },
     "execution_count": 6,
     "metadata": {},
     "output_type": "execute_result"
    }
   ],
   "source": [
    "df.columns = [\"Industrial Risk\",\"Management Risk\",\"Financial Flexibility\",\n",
    "              \"Credibility\", \"Competitiveness\", \"Operating Risk\", \"Target\"]\n",
    "df.head()"
   ]
  },
  {
   "cell_type": "code",
   "execution_count": 7,
   "metadata": {
    "ExecuteTime": {
     "end_time": "2018-08-20T04:44:37.590264Z",
     "start_time": "2018-08-20T04:44:37.581608Z"
    }
   },
   "outputs": [
    {
     "data": {
      "text/plain": [
       "NB    143\n",
       "B     107\n",
       "Name: Target, dtype: int64"
      ]
     },
     "execution_count": 7,
     "metadata": {},
     "output_type": "execute_result"
    }
   ],
   "source": [
    "df['Target'].value_counts()"
   ]
  },
  {
   "cell_type": "code",
   "execution_count": 8,
   "metadata": {
    "ExecuteTime": {
     "end_time": "2018-08-20T04:44:47.072567Z",
     "start_time": "2018-08-20T04:44:47.049488Z"
    }
   },
   "outputs": [
    {
     "data": {
      "text/html": [
       "<div>\n",
       "<style scoped>\n",
       "    .dataframe tbody tr th:only-of-type {\n",
       "        vertical-align: middle;\n",
       "    }\n",
       "\n",
       "    .dataframe tbody tr th {\n",
       "        vertical-align: top;\n",
       "    }\n",
       "\n",
       "    .dataframe thead th {\n",
       "        text-align: right;\n",
       "    }\n",
       "</style>\n",
       "<table border=\"1\" class=\"dataframe\">\n",
       "  <thead>\n",
       "    <tr style=\"text-align: right;\">\n",
       "      <th></th>\n",
       "      <th>Industrial Risk</th>\n",
       "      <th>Management Risk</th>\n",
       "      <th>Financial Flexibility</th>\n",
       "      <th>Credibility</th>\n",
       "      <th>Competitiveness</th>\n",
       "      <th>Operating Risk</th>\n",
       "      <th>Target</th>\n",
       "    </tr>\n",
       "  </thead>\n",
       "  <tbody>\n",
       "    <tr>\n",
       "      <th>0</th>\n",
       "      <td>P</td>\n",
       "      <td>P</td>\n",
       "      <td>A</td>\n",
       "      <td>A</td>\n",
       "      <td>A</td>\n",
       "      <td>P</td>\n",
       "      <td>1</td>\n",
       "    </tr>\n",
       "    <tr>\n",
       "      <th>1</th>\n",
       "      <td>N</td>\n",
       "      <td>N</td>\n",
       "      <td>A</td>\n",
       "      <td>A</td>\n",
       "      <td>A</td>\n",
       "      <td>N</td>\n",
       "      <td>1</td>\n",
       "    </tr>\n",
       "    <tr>\n",
       "      <th>2</th>\n",
       "      <td>A</td>\n",
       "      <td>A</td>\n",
       "      <td>A</td>\n",
       "      <td>A</td>\n",
       "      <td>A</td>\n",
       "      <td>A</td>\n",
       "      <td>1</td>\n",
       "    </tr>\n",
       "    <tr>\n",
       "      <th>3</th>\n",
       "      <td>P</td>\n",
       "      <td>P</td>\n",
       "      <td>P</td>\n",
       "      <td>P</td>\n",
       "      <td>P</td>\n",
       "      <td>P</td>\n",
       "      <td>1</td>\n",
       "    </tr>\n",
       "    <tr>\n",
       "      <th>4</th>\n",
       "      <td>N</td>\n",
       "      <td>N</td>\n",
       "      <td>P</td>\n",
       "      <td>P</td>\n",
       "      <td>P</td>\n",
       "      <td>N</td>\n",
       "      <td>1</td>\n",
       "    </tr>\n",
       "  </tbody>\n",
       "</table>\n",
       "</div>"
      ],
      "text/plain": [
       "  Industrial Risk Management Risk Financial Flexibility Credibility  \\\n",
       "0               P               P                     A           A   \n",
       "1               N               N                     A           A   \n",
       "2               A               A                     A           A   \n",
       "3               P               P                     P           P   \n",
       "4               N               N                     P           P   \n",
       "\n",
       "  Competitiveness Operating Risk  Target  \n",
       "0               A              P       1  \n",
       "1               A              N       1  \n",
       "2               A              A       1  \n",
       "3               P              P       1  \n",
       "4               P              N       1  "
      ]
     },
     "execution_count": 8,
     "metadata": {},
     "output_type": "execute_result"
    }
   ],
   "source": [
    "df['Target'] = pd.get_dummies(df['Target'], drop_first=True)\n",
    "df.head()"
   ]
  },
  {
   "cell_type": "code",
   "execution_count": 10,
   "metadata": {
    "ExecuteTime": {
     "end_time": "2018-08-20T04:45:13.142385Z",
     "start_time": "2018-08-20T04:45:13.112443Z"
    }
   },
   "outputs": [
    {
     "name": "stderr",
     "output_type": "stream",
     "text": [
      "/anaconda3/lib/python3.6/site-packages/pandas/core/generic.py:4480: UserWarning: the \"axis\" argument is deprecated and will be removed inv0.13; this argument has no effect\n",
      "  warnings.warn('the \"axis\" argument is deprecated '\n"
     ]
    },
    {
     "data": {
      "text/html": [
       "<div>\n",
       "<style scoped>\n",
       "    .dataframe tbody tr th:only-of-type {\n",
       "        vertical-align: middle;\n",
       "    }\n",
       "\n",
       "    .dataframe tbody tr th {\n",
       "        vertical-align: top;\n",
       "    }\n",
       "\n",
       "    .dataframe thead th {\n",
       "        text-align: right;\n",
       "    }\n",
       "</style>\n",
       "<table border=\"1\" class=\"dataframe\">\n",
       "  <thead>\n",
       "    <tr style=\"text-align: right;\">\n",
       "      <th></th>\n",
       "      <th>Industrial Risk</th>\n",
       "      <th>Management Risk</th>\n",
       "      <th>Financial Flexibility</th>\n",
       "      <th>Credibility</th>\n",
       "      <th>Competitiveness</th>\n",
       "      <th>Operating Risk</th>\n",
       "      <th>Target</th>\n",
       "    </tr>\n",
       "  </thead>\n",
       "  <tbody>\n",
       "    <tr>\n",
       "      <th>0</th>\n",
       "      <td>1.0</td>\n",
       "      <td>1.0</td>\n",
       "      <td>0.5</td>\n",
       "      <td>0.5</td>\n",
       "      <td>0.5</td>\n",
       "      <td>1.0</td>\n",
       "      <td>1</td>\n",
       "    </tr>\n",
       "    <tr>\n",
       "      <th>1</th>\n",
       "      <td>0.0</td>\n",
       "      <td>0.0</td>\n",
       "      <td>0.5</td>\n",
       "      <td>0.5</td>\n",
       "      <td>0.5</td>\n",
       "      <td>0.0</td>\n",
       "      <td>1</td>\n",
       "    </tr>\n",
       "    <tr>\n",
       "      <th>2</th>\n",
       "      <td>0.5</td>\n",
       "      <td>0.5</td>\n",
       "      <td>0.5</td>\n",
       "      <td>0.5</td>\n",
       "      <td>0.5</td>\n",
       "      <td>0.5</td>\n",
       "      <td>1</td>\n",
       "    </tr>\n",
       "    <tr>\n",
       "      <th>3</th>\n",
       "      <td>1.0</td>\n",
       "      <td>1.0</td>\n",
       "      <td>1.0</td>\n",
       "      <td>1.0</td>\n",
       "      <td>1.0</td>\n",
       "      <td>1.0</td>\n",
       "      <td>1</td>\n",
       "    </tr>\n",
       "    <tr>\n",
       "      <th>4</th>\n",
       "      <td>0.0</td>\n",
       "      <td>0.0</td>\n",
       "      <td>1.0</td>\n",
       "      <td>1.0</td>\n",
       "      <td>1.0</td>\n",
       "      <td>0.0</td>\n",
       "      <td>1</td>\n",
       "    </tr>\n",
       "  </tbody>\n",
       "</table>\n",
       "</div>"
      ],
      "text/plain": [
       "   Industrial Risk  Management Risk  Financial Flexibility  Credibility  \\\n",
       "0              1.0              1.0                    0.5          0.5   \n",
       "1              0.0              0.0                    0.5          0.5   \n",
       "2              0.5              0.5                    0.5          0.5   \n",
       "3              1.0              1.0                    1.0          1.0   \n",
       "4              0.0              0.0                    1.0          1.0   \n",
       "\n",
       "   Competitiveness  Operating Risk  Target  \n",
       "0              0.5             1.0       1  \n",
       "1              0.5             0.0       1  \n",
       "2              0.5             0.5       1  \n",
       "3              1.0             1.0       1  \n",
       "4              1.0             0.0       1  "
      ]
     },
     "execution_count": 10,
     "metadata": {},
     "output_type": "execute_result"
    }
   ],
   "source": [
    "df.replace('N',0,axis=1, inplace=True)\n",
    "df.replace('A',0.5,axis=1, inplace=True)\n",
    "df.replace('P',1,axis=1, inplace=True)\n",
    "\n",
    "df.head()"
   ]
  },
  {
   "cell_type": "markdown",
   "metadata": {},
   "source": [
    "## Exploratory Data Analysis\n",
    "\n",
    "We now looked into the pairplot of the features to have a visual check of possible predictors of the target.\n",
    "\n",
    "We can see below that Competitiveness can somehow be clearly separate the Target. The same is true for Credibility and Financial Flexibility. We'll park this for now to see if we can use the following information for feature selection later on."
   ]
  },
  {
   "cell_type": "code",
   "execution_count": 41,
   "metadata": {
    "ExecuteTime": {
     "end_time": "2018-08-20T06:07:08.712288Z",
     "start_time": "2018-08-20T06:07:03.189799Z"
    }
   },
   "outputs": [
    {
     "data": {
      "text/plain": [
       "<seaborn.axisgrid.PairGrid at 0x1a1d8e2e48>"
      ]
     },
     "execution_count": 41,
     "metadata": {},
     "output_type": "execute_result"
    },
    {
     "data": {
      "image/png": "[encoded data removed]",
      "text/plain": [
       "<matplotlib.figure.Figure at 0x1a1d8e27b8>"
      ]
     },
     "metadata": {},
     "output_type": "display_data"
    }
   ],
   "source": [
    "sns.pairplot(df, hue=\"Target\")"
   ]
  },
  {
   "cell_type": "markdown",
   "metadata": {},
   "source": [
    "We now achieved a score to beat of 63.795%. This is 1.25 times the Proportional Chance Criterion or the accuracy we need to beat inorder to say that what we have in our output is indeed a good predictor."
   ]
  },
  {
   "cell_type": "code",
   "execution_count": 42,
   "metadata": {
    "ExecuteTime": {
     "end_time": "2018-08-20T06:07:08.988105Z",
     "start_time": "2018-08-20T06:07:08.716790Z"
    }
   },
   "outputs": [
    {
     "data": {
      "image/png": "[encoded data removed]",
      "text/plain": [
       "<matplotlib.figure.Figure at 0x1a20fb4128>"
      ]
     },
     "metadata": {},
     "output_type": "display_data"
    }
   ],
   "source": [
    "state_counts = Counter(df['Target'])\n",
    "df_state = pd.DataFrame.from_dict(state_counts, orient='index')\n",
    "df_state.plot(kind='bar', colormap='tab10')\n",
    "\n",
    "pcc1 = (df_state[0]/df_state[0].sum())**2\n",
    "score_to_beat = 1.25*100*pcc1.sum()\n",
    "plt.title(\"1.25 * PCC: {}%\".format(score_to_beat));\n",
    "plt.legend().set_visible(False)"
   ]
  },
  {
   "cell_type": "markdown",
   "metadata": {},
   "source": [
    "## Model\n",
    "\n",
    "We use the machine learning models in the previous paper and added k-Nearest Neighbor, Decision Trees and Gradient Boosting classifier. We will go over the added models briefly.\n",
    "\n",
    "__k-Nearest Neighbor__ is one of the simplest models in machine learning. It is non-parametric and instance based learning algorithm, meaning it does not explicitly learn the model\n",
    "\n",
    "__Decision Trees__ is an algorithm where the data does not need scaling. Essentially, they learn a hierarchy of if-else questions leading to a decision.\n",
    "\n",
    "__Gradient Boosting Method__ follows a weaker decision tree then learns from it, that's why it is one of the most powerful models. "
   ]
  },
  {
   "cell_type": "code",
   "execution_count": 33,
   "metadata": {
    "ExecuteTime": {
     "end_time": "2018-08-20T06:00:55.443866Z",
     "start_time": "2018-08-20T06:00:55.438212Z"
    }
   },
   "outputs": [],
   "source": [
    "X = df.drop('Target', axis=1)\n",
    "y = df['Target']"
   ]
  },
  {
   "cell_type": "code",
   "execution_count": 35,
   "metadata": {
    "ExecuteTime": {
     "end_time": "2018-08-20T06:00:57.251346Z",
     "start_time": "2018-08-20T06:00:57.041330Z"
    }
   },
   "outputs": [],
   "source": [
    "#from sklearn.grid_search import GridSearchCV\n",
    "from sklearn.model_selection import GridSearchCV, train_test_split\n",
    "from sklearn.neighbors import KNeighborsClassifier\n",
    "from sklearn.linear_model import LogisticRegression\n",
    "from sklearn.svm import LinearSVC, SVC\n",
    "from sklearn.tree import DecisionTreeClassifier\n",
    "from sklearn.ensemble import RandomForestClassifier, GradientBoostingClassifier\n",
    "from sklearn.naive_bayes import GaussianNB\n",
    "\n",
    "def knn_clf(X, y, n_neighbor_range=np.arange(1, 20)):\n",
    "    param_grids = {'n_neighbors' : n_neighbor_range}\n",
    "    clf = KNeighborsClassifier()\n",
    "    gs_clf = GridSearchCV(clf, param_grids, n_jobs=-1, cv=50).fit(X, y)\n",
    "    return pd.DataFrame(\n",
    "        {'Params' : gs_clf.cv_results_['params'],\n",
    "         'Test scores' : gs_clf.cv_results_['mean_test_score']}\n",
    "                       ).sort_values(by='Test scores', \n",
    "                                     ascending=False).iloc[0,:].tolist()\n",
    "\n",
    "def lin_clf(X, y, kind, C_range=[ 1e-4, 1e-3,0.1, 0.2,0.4, \n",
    "                            0.75, 1, 1.5, 3, 5, 10, 15,  20, 100, 300, 1000]):\n",
    "    param_grids = {'penalty' : ('l1', 'l2'), 'C' : C_range}\n",
    "    if kind == 'logistic':    \n",
    "        clf = LogisticRegression(dual=False)\n",
    "    if kind == 'lin_svc':\n",
    "        clf = LinearSVC(dual=False)\n",
    "    gs_clf = GridSearchCV(clf, param_grids, n_jobs=-1, cv=50).fit(X, y)\n",
    "    return pd.DataFrame(\n",
    "        {'Params' : gs_clf.cv_results_['params'],\n",
    "         'Test scores' : gs_clf.cv_results_['mean_test_score']}\n",
    "                       ).sort_values(by='Test scores', \n",
    "                                     ascending=False).iloc[0,:].tolist()\n",
    "\n",
    "def non_lin_svm_clf(X, y, C_range=[ 1e-4, 1e-3,0.1, 0.2,0.4, \n",
    "                            0.75, 1, 1.5, 3, 5, 10, 15,  20, 100, 300, 1000],\n",
    "                gamma_range=np.arange(0.1,2.1,0.1), degree_range=[2,3,4]):\n",
    "    \n",
    "    param_grids = [{'kernel' : ['rbf'], 'C' : C_range, \n",
    "                   'gamma' : gamma_range},\n",
    "                   {'kernel' : ['poly'], 'C' : C_range, \n",
    "                   'gamma' : gamma_range, 'degree' : degree_range}]    \n",
    "    clf = SVC()\n",
    "    gs_clf = GridSearchCV(clf, param_grids, n_jobs=-1, cv=50).fit(X, y)\n",
    "    return pd.DataFrame(\n",
    "        {'Params' : gs_clf.cv_results_['params'],\n",
    "         'Test scores' : gs_clf.cv_results_['mean_test_score']}\n",
    "                       ).sort_values(by='Test scores', \n",
    "                                     ascending=False).iloc[0,:].tolist()\n",
    "\n",
    "def trees_clf(X, y, kind, max_depth_range=np.arange(2, 8), \n",
    "              learning_rate_range=np.arange(0.1, 2.1, 0.1), \n",
    "              max_feat_gb=[3,4,5]):\n",
    "    if kind == 'des_tree':\n",
    "        param_grids = {'max_depth' : max_depth_range}\n",
    "        clf = DecisionTreeClassifier()\n",
    "    if kind == 'rand_for':\n",
    "        mfeat = int(np.sqrt(X.shape[1]))\n",
    "#         param_grids = {'max_depth' : max_depth_range, \n",
    "#                        'max_features' : np.arange(mfeat - 2, mfeat)}\n",
    "        param_grids = {'max_depth' : max_depth_range, \n",
    "                       'max_features' : [3,4]}\n",
    "        clf = RandomForestClassifier(n_estimators=100, n_jobs=-1)\n",
    "    if kind == 'grad_boost':\n",
    "        param_grids = {'learning_rate' : learning_rate_range, \n",
    "                       'max_depth' : max_depth_range, \n",
    "                       'max_features' : max_feat_gb}\n",
    "        clf = GradientBoostingClassifier(n_estimators=100)\n",
    "    gs_clf = GridSearchCV(clf, param_grids, n_jobs=-1, cv=50).fit(X, y)\n",
    "    return pd.DataFrame(\n",
    "        {'Params' : gs_clf.cv_results_['params'],\n",
    "         'Test scores' : gs_clf.cv_results_['mean_test_score']}\n",
    "                       ).sort_values(by='Test scores', \n",
    "                                     ascending=False).iloc[0,:].tolist()\n",
    "\n",
    "def nb_clf(X, y):\n",
    "    clf = GaussianNB()\n",
    "    test_acc = []\n",
    "    for i in range(100):\n",
    "        X_train, X_test, y_train, y_test = train_test_split(X, y, \n",
    "                                                            test_size=0.25,\n",
    "                                                            random_state=i)\n",
    "        clf.fit(X_train, y_train)\n",
    "        test_acc.append(clf.score(X_test,y_test))\n",
    "    return np.mean(test_acc)"
   ]
  },
  {
   "cell_type": "code",
   "execution_count": 36,
   "metadata": {
    "ExecuteTime": {
     "end_time": "2018-08-20T06:03:39.963844Z",
     "start_time": "2018-08-20T06:00:58.066385Z"
    }
   },
   "outputs": [],
   "source": [
    "knn_res = knn_clf(X, y, \n",
    "            n_neighbor_range=np.arange(1, 20))\n",
    "#print('knn Done!')\n",
    "log_res = lin_clf(X, y, \n",
    "            'logistic', C_range=[ 1e-4, 1e-3,0.1, 0.2,0.4, \n",
    "                            0.75, 1, 1.5, 3, 5, 10, 15,  20, 100, 300, 1000])\n",
    "#print('logistic reg Done!')\n",
    "lin_svc_res = lin_clf(X, y, \n",
    "            'lin_svc', C_range=[ 1e-4, 1e-3,0.1, 0.2,0.4, \n",
    "                            0.75, 1, 1.5, 3, 5, 10, 15,  20, 100, 300, 1000])\n",
    "#print('lin svc Done!')\n",
    "non_lin_svc_res = non_lin_svm_clf(X, y,\n",
    "                C_range=[ 1e-4, 1e-3,0.1, 0.2,0.4, \n",
    "                            0.75, 1, 1.5, 3, 5, 10, 15,  20, 100, 300, 1000],\n",
    "                gamma_range=np.arange(0.1,2.1,0.1), degree_range=[2,3,4])\n",
    "#print('nonlin svc Done!')\n",
    "des_t_res = trees_clf(X, y,\n",
    "              'des_tree', max_depth_range=np.arange(2, 8))\n",
    "#print('des trees Done!')\n",
    "rand_f_res = trees_clf(X, y,\n",
    "              'rand_for', max_depth_range=np.arange(2, 5))\n",
    "#print('rand forest Done!')\n",
    "grad_b_ref = trees_clf(X, y,\n",
    "              'grad_boost', max_depth_range=np.arange(2, 5), \n",
    "              learning_rate_range=np.arange(0.1, 0.5, 0.1), \n",
    "              max_feat_gb=[3,4])\n",
    "#print('grad boost Done!')\n",
    "nb_res = nb_clf(X, y)\n",
    "#print('bayes Done!')"
   ]
  },
  {
   "cell_type": "code",
   "execution_count": 46,
   "metadata": {
    "ExecuteTime": {
     "end_time": "2018-08-20T07:09:45.672498Z",
     "start_time": "2018-08-20T07:09:45.644186Z"
    }
   },
   "outputs": [
    {
     "data": {
      "text/html": [
       "<div>\n",
       "<style scoped>\n",
       "    .dataframe tbody tr th:only-of-type {\n",
       "        vertical-align: middle;\n",
       "    }\n",
       "\n",
       "    .dataframe tbody tr th {\n",
       "        vertical-align: top;\n",
       "    }\n",
       "\n",
       "    .dataframe thead th {\n",
       "        text-align: right;\n",
       "    }\n",
       "</style>\n",
       "<table border=\"1\" class=\"dataframe\">\n",
       "  <thead>\n",
       "    <tr style=\"text-align: right;\">\n",
       "      <th></th>\n",
       "      <th>Test Accuracy</th>\n",
       "      <th>Best Parameters</th>\n",
       "    </tr>\n",
       "  </thead>\n",
       "  <tbody>\n",
       "    <tr>\n",
       "      <th>k-Nearest Neighbors</th>\n",
       "      <td>0.996000</td>\n",
       "      <td>{'n_neighbors': 1}</td>\n",
       "    </tr>\n",
       "    <tr>\n",
       "      <th>Logistic Regression</th>\n",
       "      <td>0.996000</td>\n",
       "      <td>{'C': 3, 'penalty': 'l1'}</td>\n",
       "    </tr>\n",
       "    <tr>\n",
       "      <th>Linear SVC</th>\n",
       "      <td>0.996000</td>\n",
       "      <td>{'C': 0.75, 'penalty': 'l1'}</td>\n",
       "    </tr>\n",
       "    <tr>\n",
       "      <th>Non-linear SVC</th>\n",
       "      <td>0.996000</td>\n",
       "      <td>{'C': 1000, 'gamma': 1.4000000000000001, 'kern...</td>\n",
       "    </tr>\n",
       "    <tr>\n",
       "      <th>Decision Trees</th>\n",
       "      <td>0.992000</td>\n",
       "      <td>{'max_depth': 3}</td>\n",
       "    </tr>\n",
       "    <tr>\n",
       "      <th>Random Forest</th>\n",
       "      <td>0.996000</td>\n",
       "      <td>{'max_depth': 3, 'max_features': 4}</td>\n",
       "    </tr>\n",
       "    <tr>\n",
       "      <th>Gradient Boosting</th>\n",
       "      <td>1.000000</td>\n",
       "      <td>{'learning_rate': 0.1, 'max_depth': 2, 'max_fe...</td>\n",
       "    </tr>\n",
       "    <tr>\n",
       "      <th>Naive Bayes</th>\n",
       "      <td>0.975556</td>\n",
       "      <td>NA</td>\n",
       "    </tr>\n",
       "  </tbody>\n",
       "</table>\n",
       "</div>"
      ],
      "text/plain": [
       "                     Test Accuracy  \\\n",
       "k-Nearest Neighbors       0.996000   \n",
       "Logistic Regression       0.996000   \n",
       "Linear SVC                0.996000   \n",
       "Non-linear SVC            0.996000   \n",
       "Decision Trees            0.992000   \n",
       "Random Forest             0.996000   \n",
       "Gradient Boosting         1.000000   \n",
       "Naive Bayes               0.975556   \n",
       "\n",
       "                                                       Best Parameters  \n",
       "k-Nearest Neighbors                                 {'n_neighbors': 1}  \n",
       "Logistic Regression                          {'C': 3, 'penalty': 'l1'}  \n",
       "Linear SVC                                {'C': 0.75, 'penalty': 'l1'}  \n",
       "Non-linear SVC       {'C': 1000, 'gamma': 1.4000000000000001, 'kern...  \n",
       "Decision Trees                                        {'max_depth': 3}  \n",
       "Random Forest                      {'max_depth': 3, 'max_features': 4}  \n",
       "Gradient Boosting    {'learning_rate': 0.1, 'max_depth': 2, 'max_fe...  \n",
       "Naive Bayes                                                         NA  "
      ]
     },
     "execution_count": 46,
     "metadata": {},
     "output_type": "execute_result"
    }
   ],
   "source": [
    "res = pd.DataFrame([[knn_res[1], knn_res[0]],\n",
    "                    [log_res[1], log_res[0]],\n",
    "                    [lin_svc_res[1], lin_svc_res[0]],\n",
    "                    [non_lin_svc_res[1], non_lin_svc_res[0]],\n",
    "                    [des_t_res[1], des_t_res[0]],\n",
    "                    [rand_f_res[1], rand_f_res[0]],\n",
    "                    [grad_b_ref[1], grad_b_ref[0]],\n",
    "                    [nb_res, 'NA']], \n",
    "                   index=['k-Nearest Neighbors', 'Logistic Regression', \n",
    "                        'Linear SVC', 'Non-linear SVC', \n",
    "                        'Decision Trees', 'Random Forest', 'Gradient Boosting',\n",
    "                         'Naive Bayes'],\n",
    "                   columns=['Test Accuracy', 'Best Parameters'])\n",
    "res"
   ]
  },
  {
   "cell_type": "code",
   "execution_count": 49,
   "metadata": {
    "ExecuteTime": {
     "end_time": "2018-08-20T09:15:09.754424Z",
     "start_time": "2018-08-20T09:15:09.746940Z"
    }
   },
   "outputs": [
    {
     "data": {
      "text/plain": [
       "{'learning_rate': 0.1, 'max_depth': 2, 'max_features': 3}"
      ]
     },
     "execution_count": 49,
     "metadata": {},
     "output_type": "execute_result"
    }
   ],
   "source": [
    "grad_b_ref[0]"
   ]
  },
  {
   "cell_type": "markdown",
   "metadata": {},
   "source": [
    "We now look into the top predictors of the data. Decision tree is not the model with highest accuracy but we use it for interpretability of results. We can see from the Decision Tree below that we have Competitiveness and Credibitlity as the top predictors."
   ]
  },
  {
   "cell_type": "code",
   "execution_count": 47,
   "metadata": {
    "ExecuteTime": {
     "end_time": "2018-08-20T07:09:51.882331Z",
     "start_time": "2018-08-20T07:09:51.321589Z"
    }
   },
   "outputs": [
    {
     "data": {
      "image/svg+xml": [
       "<?xml version=\"1.0\" encoding=\"UTF-8\" standalone=\"no\"?>\n",
       "<!DOCTYPE svg PUBLIC \"-//W3C//DTD SVG 1.1//EN\"\n",
       " \"http://www.w3.org/Graphics/SVG/1.1/DTD/svg11.dtd\">\n",
       "<!-- Generated by graphviz version 2.40.1 (20161225.0304)\n",
       " -->\n",
       "<!-- Title: Tree Pages: 1 -->\n",
       "<svg width=\"256pt\" height=\"373pt\"\n",
       " viewBox=\"0.00 0.00 256.00 373.00\" xmlns=\"http://www.w3.org/2000/svg\" xmlns:xlink=\"http://www.w3.org/1999/xlink\">\n",
       "<g id=\"graph0\" class=\"graph\" transform=\"scale(1 1) rotate(0) translate(4 369)\">\n",
       "<title>Tree</title>\n",
       "<polygon fill=\"#ffffff\" stroke=\"transparent\" points=\"-4,4 -4,-369 252,-369 252,4 -4,4\"/>\n",
       "<!-- 0 -->\n",
       "<g id=\"node1\" class=\"node\">\n",
       "<title>0</title>\n",
       "<polygon fill=\"#399de5\" fill-opacity=\"0.250980\" stroke=\"#000000\" points=\"153,-365 31,-365 31,-297 153,-297 153,-365\"/>\n",
       "<text text-anchor=\"middle\" x=\"92\" y=\"-349.8\" font-family=\"Times,serif\" font-size=\"14.00\" fill=\"#000000\">Competitiveness &lt;= 0.25</text>\n",
       "<text text-anchor=\"middle\" x=\"92\" y=\"-334.8\" font-family=\"Times,serif\" font-size=\"14.00\" fill=\"#000000\">samples = 187</text>\n",
       "<text text-anchor=\"middle\" x=\"92\" y=\"-319.8\" font-family=\"Times,serif\" font-size=\"14.00\" fill=\"#000000\">value = [80, 107]</text>\n",
       "<text text-anchor=\"middle\" x=\"92\" y=\"-304.8\" font-family=\"Times,serif\" font-size=\"14.00\" fill=\"#000000\">class = NB</text>\n",
       "</g>\n",
       "<!-- 1 -->\n",
       "<g id=\"node2\" class=\"node\">\n",
       "<title>1</title>\n",
       "<polygon fill=\"#e58139\" stroke=\"#000000\" points=\"78,-253.5 0,-253.5 0,-200.5 78,-200.5 78,-253.5\"/>\n",
       "<text text-anchor=\"middle\" x=\"39\" y=\"-238.3\" font-family=\"Times,serif\" font-size=\"14.00\" fill=\"#000000\">samples = 77</text>\n",
       "<text text-anchor=\"middle\" x=\"39\" y=\"-223.3\" font-family=\"Times,serif\" font-size=\"14.00\" fill=\"#000000\">value = [77, 0]</text>\n",
       "<text text-anchor=\"middle\" x=\"39\" y=\"-208.3\" font-family=\"Times,serif\" font-size=\"14.00\" fill=\"#000000\">class = B</text>\n",
       "</g>\n",
       "<!-- 0&#45;&gt;1 -->\n",
       "<g id=\"edge1\" class=\"edge\">\n",
       "<title>0&#45;&gt;1</title>\n",
       "<path fill=\"none\" stroke=\"#000000\" d=\"M74.6458,-296.9465C69.0325,-285.9316 62.795,-273.6922 57.1272,-262.5703\"/>\n",
       "<polygon fill=\"#000000\" stroke=\"#000000\" points=\"60.1853,-260.8627 52.5263,-253.5422 53.9485,-264.0411 60.1853,-260.8627\"/>\n",
       "<text text-anchor=\"middle\" x=\"44.8026\" y=\"-273.6191\" font-family=\"Times,serif\" font-size=\"14.00\" fill=\"#000000\">True</text>\n",
       "</g>\n",
       "<!-- 2 -->\n",
       "<g id=\"node3\" class=\"node\">\n",
       "<title>2</title>\n",
       "<polygon fill=\"#399de5\" fill-opacity=\"0.972549\" stroke=\"#000000\" points=\"193.5,-261 96.5,-261 96.5,-193 193.5,-193 193.5,-261\"/>\n",
       "<text text-anchor=\"middle\" x=\"145\" y=\"-245.8\" font-family=\"Times,serif\" font-size=\"14.00\" fill=\"#000000\">Credibility &lt;= 0.25</text>\n",
       "<text text-anchor=\"middle\" x=\"145\" y=\"-230.8\" font-family=\"Times,serif\" font-size=\"14.00\" fill=\"#000000\">samples = 110</text>\n",
       "<text text-anchor=\"middle\" x=\"145\" y=\"-215.8\" font-family=\"Times,serif\" font-size=\"14.00\" fill=\"#000000\">value = [3, 107]</text>\n",
       "<text text-anchor=\"middle\" x=\"145\" y=\"-200.8\" font-family=\"Times,serif\" font-size=\"14.00\" fill=\"#000000\">class = NB</text>\n",
       "</g>\n",
       "<!-- 0&#45;&gt;2 -->\n",
       "<g id=\"edge2\" class=\"edge\">\n",
       "<title>0&#45;&gt;2</title>\n",
       "<path fill=\"none\" stroke=\"#000000\" d=\"M109.3542,-296.9465C113.701,-288.4169 118.422,-279.153 122.963,-270.2424\"/>\n",
       "<polygon fill=\"#000000\" stroke=\"#000000\" points=\"126.1846,-271.629 127.6068,-261.13 119.9478,-268.4505 126.1846,-271.629\"/>\n",
       "<text text-anchor=\"middle\" x=\"135.3306\" y=\"-281.207\" font-family=\"Times,serif\" font-size=\"14.00\" fill=\"#000000\">False</text>\n",
       "</g>\n",
       "<!-- 3 -->\n",
       "<g id=\"node4\" class=\"node\">\n",
       "<title>3</title>\n",
       "<polygon fill=\"#399de5\" fill-opacity=\"0.400000\" stroke=\"#000000\" points=\"146,-157 24,-157 24,-89 146,-89 146,-157\"/>\n",
       "<text text-anchor=\"middle\" x=\"85\" y=\"-141.8\" font-family=\"Times,serif\" font-size=\"14.00\" fill=\"#000000\">Competitiveness &lt;= 0.75</text>\n",
       "<text text-anchor=\"middle\" x=\"85\" y=\"-126.8\" font-family=\"Times,serif\" font-size=\"14.00\" fill=\"#000000\">samples = 8</text>\n",
       "<text text-anchor=\"middle\" x=\"85\" y=\"-111.8\" font-family=\"Times,serif\" font-size=\"14.00\" fill=\"#000000\">value = [3, 5]</text>\n",
       "<text text-anchor=\"middle\" x=\"85\" y=\"-96.8\" font-family=\"Times,serif\" font-size=\"14.00\" fill=\"#000000\">class = NB</text>\n",
       "</g>\n",
       "<!-- 2&#45;&gt;3 -->\n",
       "<g id=\"edge3\" class=\"edge\">\n",
       "<title>2&#45;&gt;3</title>\n",
       "<path fill=\"none\" stroke=\"#000000\" d=\"M125.3538,-192.9465C120.381,-184.3271 114.9757,-174.9579 109.7852,-165.9611\"/>\n",
       "<polygon fill=\"#000000\" stroke=\"#000000\" points=\"112.7193,-164.0428 104.6904,-157.13 106.656,-167.5409 112.7193,-164.0428\"/>\n",
       "</g>\n",
       "<!-- 6 -->\n",
       "<g id=\"node7\" class=\"node\">\n",
       "<title>6</title>\n",
       "<polygon fill=\"#399de5\" stroke=\"#000000\" points=\"248,-149.5 164,-149.5 164,-96.5 248,-96.5 248,-149.5\"/>\n",
       "<text text-anchor=\"middle\" x=\"206\" y=\"-134.3\" font-family=\"Times,serif\" font-size=\"14.00\" fill=\"#000000\">samples = 102</text>\n",
       "<text text-anchor=\"middle\" x=\"206\" y=\"-119.3\" font-family=\"Times,serif\" font-size=\"14.00\" fill=\"#000000\">value = [0, 102]</text>\n",
       "<text text-anchor=\"middle\" x=\"206\" y=\"-104.3\" font-family=\"Times,serif\" font-size=\"14.00\" fill=\"#000000\">class = NB</text>\n",
       "</g>\n",
       "<!-- 2&#45;&gt;6 -->\n",
       "<g id=\"edge6\" class=\"edge\">\n",
       "<title>2&#45;&gt;6</title>\n",
       "<path fill=\"none\" stroke=\"#000000\" d=\"M164.9737,-192.9465C171.499,-181.8215 178.7569,-169.4473 185.3322,-158.237\"/>\n",
       "<polygon fill=\"#000000\" stroke=\"#000000\" points=\"188.3916,-159.9387 190.432,-149.5422 182.3536,-156.3971 188.3916,-159.9387\"/>\n",
       "</g>\n",
       "<!-- 4 -->\n",
       "<g id=\"node5\" class=\"node\">\n",
       "<title>4</title>\n",
       "<polygon fill=\"#e58139\" stroke=\"#000000\" points=\"76.5,-53 3.5,-53 3.5,0 76.5,0 76.5,-53\"/>\n",
       "<text text-anchor=\"middle\" x=\"40\" y=\"-37.8\" font-family=\"Times,serif\" font-size=\"14.00\" fill=\"#000000\">samples = 3</text>\n",
       "<text text-anchor=\"middle\" x=\"40\" y=\"-22.8\" font-family=\"Times,serif\" font-size=\"14.00\" fill=\"#000000\">value = [3, 0]</text>\n",
       "<text text-anchor=\"middle\" x=\"40\" y=\"-7.8\" font-family=\"Times,serif\" font-size=\"14.00\" fill=\"#000000\">class = B</text>\n",
       "</g>\n",
       "<!-- 3&#45;&gt;4 -->\n",
       "<g id=\"edge4\" class=\"edge\">\n",
       "<title>3&#45;&gt;4</title>\n",
       "<path fill=\"none\" stroke=\"#000000\" d=\"M69.1347,-88.9777C65.1208,-80.3702 60.7975,-71.0992 56.7419,-62.402\"/>\n",
       "<polygon fill=\"#000000\" stroke=\"#000000\" points=\"59.8718,-60.8323 52.4734,-53.2485 53.5277,-63.7907 59.8718,-60.8323\"/>\n",
       "</g>\n",
       "<!-- 5 -->\n",
       "<g id=\"node6\" class=\"node\">\n",
       "<title>5</title>\n",
       "<polygon fill=\"#399de5\" stroke=\"#000000\" points=\"167.5,-53 94.5,-53 94.5,0 167.5,0 167.5,-53\"/>\n",
       "<text text-anchor=\"middle\" x=\"131\" y=\"-37.8\" font-family=\"Times,serif\" font-size=\"14.00\" fill=\"#000000\">samples = 5</text>\n",
       "<text text-anchor=\"middle\" x=\"131\" y=\"-22.8\" font-family=\"Times,serif\" font-size=\"14.00\" fill=\"#000000\">value = [0, 5]</text>\n",
       "<text text-anchor=\"middle\" x=\"131\" y=\"-7.8\" font-family=\"Times,serif\" font-size=\"14.00\" fill=\"#000000\">class = NB</text>\n",
       "</g>\n",
       "<!-- 3&#45;&gt;5 -->\n",
       "<g id=\"edge5\" class=\"edge\">\n",
       "<title>3&#45;&gt;5</title>\n",
       "<path fill=\"none\" stroke=\"#000000\" d=\"M101.2179,-88.9777C105.321,-80.3702 109.7403,-71.0992 113.8861,-62.402\"/>\n",
       "<polygon fill=\"#000000\" stroke=\"#000000\" points=\"117.1058,-63.7814 118.2494,-53.2485 110.787,-60.7693 117.1058,-63.7814\"/>\n",
       "</g>\n",
       "</g>\n",
       "</svg>\n"
      ],
      "text/plain": [
       "<graphviz.files.Source at 0x1a1c1ce4a8>"
      ]
     },
     "execution_count": 47,
     "metadata": {},
     "output_type": "execute_result"
    }
   ],
   "source": [
    "from sklearn.tree import export_graphviz\n",
    "export_graphviz(tree, out_file=\"mytree.dot\", class_names=[\"B\", \"NB\"],\n",
    "feature_names=X_train.columns, impurity=False, filled=True)\n",
    "\n",
    "import graphviz\n",
    "with open(\"mytree.dot\") as f:\n",
    "    dot_graph = f.read()\n",
    "graphviz.Source(dot_graph)"
   ]
  },
  {
   "cell_type": "markdown",
   "metadata": {},
   "source": [
    "## Conclusion\n",
    "\n",
    "Using all the features in the dataset, we are able to predict if a company is going under. Using the Gradient Boosting Method, we are able to predict with a test accuracy of up to 100% with a learning rate of 0.1, max_depth of 2 and max_features of 3. We are able to create a better algorithm than the previous paper [3]. \n",
    "\n",
    "We are also able to show in this paper that competitiveness, which refers to differentiated stategy, and credibility, in terms of credit score, are the top predictors. Companies need to highlight these factors and make sure that they are always positive so as not to go bankrupt and prevent financial crisis."
   ]
  },
  {
   "cell_type": "markdown",
   "metadata": {},
   "source": [
    "## References\n",
    "\n",
    "[1] https://archive.ics.uci.edu/ml/datasets/qualitative_bankruptcy  \n",
    "[2] http://neuron.csie.ntust.edu.tw/homework/95/neuron/homework/Homework%233/M9509007/paper/5.htm  \n",
    "[3] https://arxiv.org/pdf/1502.03601.pdf"
   ]
  }
 ],
 "metadata": {
  "kernelspec": {
   "display_name": "Python 3",
   "language": "python",
   "name": "python3"
  },
  "language_info": {
   "codemirror_mode": {
    "name": "ipython",
    "version": 3
   },
   "file_extension": ".py",
   "mimetype": "text/x-python",
   "name": "python",
   "nbconvert_exporter": "python",
   "pygments_lexer": "ipython3",
   "version": "3.6.4"
  },
  "latex_envs": {
   "LaTeX_envs_menu_present": true,
   "autoclose": false,
   "autocomplete": true,
   "bibliofile": "biblio.bib",
   "cite_by": "apalike",
   "current_citInitial": 1,
   "eqLabelWithNumbers": true,
   "eqNumInitial": 1,
   "hotkeys": {
    "equation": "Ctrl-E",
    "itemize": "Ctrl-I"
   },
   "labels_anchors": false,
   "latex_user_defs": false,
   "report_style_numbering": false,
   "user_envs_cfg": false
  }
 },
 "nbformat": 4,
 "nbformat_minor": 2
}
