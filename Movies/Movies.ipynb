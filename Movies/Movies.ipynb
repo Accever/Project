{
 "cells": [
  {
   "cell_type": "markdown",
   "metadata": {},
   "source": [
    "# Predicting Success of Movies\n",
    "\n",
    "by: Accever Mendoza"
   ]
  },
  {
   "cell_type": "markdown",
   "metadata": {},
   "source": [
    "## Executive Summary\n",
    "\n",
    "This paper aims to look at CSM (Conventional and Social Media Movies) Dataset 2014 and 2015 and be able to predict ratings and gross income of movies. Regression models were used and the features were also separated. The model with the best accuracy is chosen and for this case, the ratings had 13.3% maximum test accuracy and gross income had 51.55% test accuracy."
   ]
  },
  {
   "cell_type": "markdown",
   "metadata": {},
   "source": [
    "## Data Description\n",
    "\n",
    "There are 12 features categorized as conventional and social media features. Both conventional features, collected from movies databases on Web as well as social media features (Youtube, Twitter). Descriptions are from the paper cited.\n",
    "\n",
    "* Genre: 19 values of Genre such as Action, Adventure and Drama etc. are used. Each nominal value of genre was mapped onto numeric value from 1-19 in order to improve the performance of learning algorithms.\n",
    "\n",
    "* Sequel: The value represents whether the movie is sequel or an individual. It is a numeric number that ranges from 1 to N. 1 shows that movie is first release (no sequel), whereas 2 represents that the movie is 2nd in a sequel; E.g. Pirates of Caribbean: Dead Man’s Chest is 2nd in sequel, therefore it is assigned the value of 2.\n",
    "\n",
    "* Ratings: The value of Ratings ranges between 1 to 10 with 1 being lowest and 10 the highest. These values are collected from IMDB.\n",
    "\n",
    "* Gross Income, Budget and Number of Screens: Gross world-wide income and Budget for each movie is collected from IMDB. The values are converted into USD (if available in other currencies). Number of screens on which movie was initially launched in US is also considered.\n",
    "\n",
    "* Aggregate Actor Followers: Number of followers on twitter is used. Initially, we considered only the top actor; however, the data got too sparse as there are many actors who do not have twitter account, therefore, we used the followers count of top 3 cast.\n",
    "\n",
    "* Number of Views and Comments: The number of views and comments of trailer of movies on YouTube are calculated.\n",
    "\n",
    "* Number of likes and dislikes: Similar to the number of views and counts, number of Likes and Dislikes of trailers on YouTube are considered.\n",
    "\n",
    "* Sentiment Score: This feature is represented by signed integer value. 0 represents neutral sentiment, “+”sign shows the positive sentiment whereas number shows the magnitude. Similarly “–”sign shows negative sentiment. Sentiment score is calculated by retrieving all tweets related to each movie, assigning the sentiment score to each of them and then aggregating the score."
   ]
  },
  {
   "cell_type": "markdown",
   "metadata": {
    "ExecuteTime": {
     "end_time": "2018-06-29T06:00:48.150177Z",
     "start_time": "2018-06-29T06:00:48.144613Z"
    }
   },
   "source": [
    "## Exploratory Data Analysis and Pre-processing"
   ]
  },
  {
   "cell_type": "markdown",
   "metadata": {
    "ExecuteTime": {
     "end_time": "2018-07-14T14:23:52.796449Z",
     "start_time": "2018-07-14T14:23:52.651482Z"
    }
   },
   "source": [
    "We take a look at the movies dataset. First we change the index to the Movie titles. Then we take a look at the distribution of the dataset in terms of Genre, Year and Ratings. Afterwards, we look at the data type of each of the feature. Then we now have to clean the data.\n",
    "\n",
    "We first look at the number of NaN values. Using the Imputer from sklearn, we impute missing values using the mean."
   ]
  },
  {
   "cell_type": "code",
   "execution_count": 1,
   "metadata": {
    "ExecuteTime": {
     "end_time": "2018-07-14T15:27:09.569381Z",
     "start_time": "2018-07-14T15:27:09.107893Z"
    }
   },
   "outputs": [
    {
     "data": {
      "text/html": [
       "<div>\n",
       "<style scoped>\n",
       "    .dataframe tbody tr th:only-of-type {\n",
       "        vertical-align: middle;\n",
       "    }\n",
       "\n",
       "    .dataframe tbody tr th {\n",
       "        vertical-align: top;\n",
       "    }\n",
       "\n",
       "    .dataframe thead th {\n",
       "        text-align: right;\n",
       "    }\n",
       "</style>\n",
       "<table border=\"1\" class=\"dataframe\">\n",
       "  <thead>\n",
       "    <tr style=\"text-align: right;\">\n",
       "      <th></th>\n",
       "      <th>Year</th>\n",
       "      <th>Ratings</th>\n",
       "      <th>Genre</th>\n",
       "      <th>Gross</th>\n",
       "      <th>Budget</th>\n",
       "      <th>Screens</th>\n",
       "      <th>Sequel</th>\n",
       "      <th>Sentiment</th>\n",
       "      <th>Views</th>\n",
       "      <th>Likes</th>\n",
       "      <th>Dislikes</th>\n",
       "      <th>Comments</th>\n",
       "      <th>Aggregate Followers</th>\n",
       "    </tr>\n",
       "    <tr>\n",
       "      <th>Movie</th>\n",
       "      <th></th>\n",
       "      <th></th>\n",
       "      <th></th>\n",
       "      <th></th>\n",
       "      <th></th>\n",
       "      <th></th>\n",
       "      <th></th>\n",
       "      <th></th>\n",
       "      <th></th>\n",
       "      <th></th>\n",
       "      <th></th>\n",
       "      <th></th>\n",
       "      <th></th>\n",
       "    </tr>\n",
       "  </thead>\n",
       "  <tbody>\n",
       "    <tr>\n",
       "      <th>13 Sins</th>\n",
       "      <td>2014</td>\n",
       "      <td>6.3</td>\n",
       "      <td>8</td>\n",
       "      <td>9130</td>\n",
       "      <td>4000000.0</td>\n",
       "      <td>45.0</td>\n",
       "      <td>1</td>\n",
       "      <td>0</td>\n",
       "      <td>3280543</td>\n",
       "      <td>4632</td>\n",
       "      <td>425</td>\n",
       "      <td>636</td>\n",
       "      <td>1120000.0</td>\n",
       "    </tr>\n",
       "    <tr>\n",
       "      <th>22 Jump Street</th>\n",
       "      <td>2014</td>\n",
       "      <td>7.1</td>\n",
       "      <td>1</td>\n",
       "      <td>192000000</td>\n",
       "      <td>50000000.0</td>\n",
       "      <td>3306.0</td>\n",
       "      <td>2</td>\n",
       "      <td>2</td>\n",
       "      <td>583289</td>\n",
       "      <td>3465</td>\n",
       "      <td>61</td>\n",
       "      <td>186</td>\n",
       "      <td>12350000.0</td>\n",
       "    </tr>\n",
       "    <tr>\n",
       "      <th>3 Days to Kill</th>\n",
       "      <td>2014</td>\n",
       "      <td>6.2</td>\n",
       "      <td>1</td>\n",
       "      <td>30700000</td>\n",
       "      <td>28000000.0</td>\n",
       "      <td>2872.0</td>\n",
       "      <td>1</td>\n",
       "      <td>0</td>\n",
       "      <td>304861</td>\n",
       "      <td>328</td>\n",
       "      <td>34</td>\n",
       "      <td>47</td>\n",
       "      <td>483000.0</td>\n",
       "    </tr>\n",
       "    <tr>\n",
       "      <th>300: Rise of an Empire</th>\n",
       "      <td>2014</td>\n",
       "      <td>6.3</td>\n",
       "      <td>1</td>\n",
       "      <td>106000000</td>\n",
       "      <td>110000000.0</td>\n",
       "      <td>3470.0</td>\n",
       "      <td>2</td>\n",
       "      <td>0</td>\n",
       "      <td>452917</td>\n",
       "      <td>2429</td>\n",
       "      <td>132</td>\n",
       "      <td>590</td>\n",
       "      <td>568000.0</td>\n",
       "    </tr>\n",
       "    <tr>\n",
       "      <th>A Haunted House 2</th>\n",
       "      <td>2014</td>\n",
       "      <td>4.7</td>\n",
       "      <td>8</td>\n",
       "      <td>17300000</td>\n",
       "      <td>3500000.0</td>\n",
       "      <td>2310.0</td>\n",
       "      <td>2</td>\n",
       "      <td>0</td>\n",
       "      <td>3145573</td>\n",
       "      <td>12163</td>\n",
       "      <td>610</td>\n",
       "      <td>1082</td>\n",
       "      <td>1923800.0</td>\n",
       "    </tr>\n",
       "  </tbody>\n",
       "</table>\n",
       "</div>"
      ],
      "text/plain": [
       "                        Year  Ratings  Genre      Gross       Budget  Screens  \\\n",
       "Movie                                                                           \n",
       "13 Sins                 2014      6.3      8       9130    4000000.0     45.0   \n",
       "22 Jump Street          2014      7.1      1  192000000   50000000.0   3306.0   \n",
       "3 Days to Kill          2014      6.2      1   30700000   28000000.0   2872.0   \n",
       "300: Rise of an Empire  2014      6.3      1  106000000  110000000.0   3470.0   \n",
       "A Haunted House 2       2014      4.7      8   17300000    3500000.0   2310.0   \n",
       "\n",
       "                        Sequel  Sentiment    Views  Likes  Dislikes  Comments  \\\n",
       "Movie                                                                           \n",
       "13 Sins                      1          0  3280543   4632       425       636   \n",
       "22 Jump Street               2          2   583289   3465        61       186   \n",
       "3 Days to Kill               1          0   304861    328        34        47   \n",
       "300: Rise of an Empire       2          0   452917   2429       132       590   \n",
       "A Haunted House 2            2          0  3145573  12163       610      1082   \n",
       "\n",
       "                        Aggregate Followers  \n",
       "Movie                                        \n",
       "13 Sins                           1120000.0  \n",
       "22 Jump Street                   12350000.0  \n",
       "3 Days to Kill                     483000.0  \n",
       "300: Rise of an Empire             568000.0  \n",
       "A Haunted House 2                 1923800.0  "
      ]
     },
     "execution_count": 1,
     "metadata": {},
     "output_type": "execute_result"
    }
   ],
   "source": [
    "import pandas as pd\n",
    "\n",
    "df = pd.read_excel('2014 and 2015 CSM dataset.xlsx')\n",
    "df.set_index(['Movie'], inplace=True)\n",
    "df.head()"
   ]
  },
  {
   "cell_type": "code",
   "execution_count": 2,
   "metadata": {
    "ExecuteTime": {
     "end_time": "2018-07-14T15:27:10.093492Z",
     "start_time": "2018-07-14T15:27:09.572408Z"
    }
   },
   "outputs": [
    {
     "data": {
      "text/plain": [
       "<matplotlib.axes._subplots.AxesSubplot at 0x108bf70f0>"
      ]
     },
     "execution_count": 2,
     "metadata": {},
     "output_type": "execute_result"
    }
   ],
   "source": [
    "import numpy as np\n",
    "from collections import Counter\n",
    "state_counts = Counter(df['Ratings'])\n",
    "df_state = pd.DataFrame.from_dict(state_counts, orient='index')\n",
    "df_state.columns = ['Ratings']\n",
    "df_state.plot(kind='bar')"
   ]
  },
  {
   "cell_type": "code",
   "execution_count": 3,
   "metadata": {
    "ExecuteTime": {
     "end_time": "2018-07-14T15:27:10.346997Z",
     "start_time": "2018-07-14T15:27:10.096296Z"
    }
   },
   "outputs": [
    {
     "data": {
      "text/plain": [
       "<matplotlib.axes._subplots.AxesSubplot at 0x10e711518>"
      ]
     },
     "execution_count": 3,
     "metadata": {},
     "output_type": "execute_result"
    },
    {
     "data": {
      "image/png": "[encoded data removed]",
      "text/plain": [
       "<matplotlib.figure.Figure at 0x10e71e2b0>"
      ]
     },
     "metadata": {},
     "output_type": "display_data"
    }
   ],
   "source": [
    "import numpy as np\n",
    "from collections import Counter\n",
    "state_counts = Counter(df['Genre'])\n",
    "df_state = pd.DataFrame.from_dict(state_counts, orient='index')\n",
    "df_state.columns = ['Genre']\n",
    "df_state.plot(kind='bar')"
   ]
  },
  {
   "cell_type": "code",
   "execution_count": 4,
   "metadata": {
    "ExecuteTime": {
     "end_time": "2018-07-14T15:27:10.514612Z",
     "start_time": "2018-07-14T15:27:10.351642Z"
    }
   },
   "outputs": [
    {
     "data": {
      "text/plain": [
       "<matplotlib.axes._subplots.AxesSubplot at 0x1082cba58>"
      ]
     },
     "execution_count": 4,
     "metadata": {},
     "output_type": "execute_result"
    },
    {
     "data": {
      "image/png": "[encoded data removed]",
      "text/plain": [
       "<matplotlib.figure.Figure at 0x1082777f0>"
      ]
     },
     "metadata": {},
     "output_type": "display_data"
    }
   ],
   "source": [
    "import numpy as np\n",
    "from collections import Counter\n",
    "state_counts = Counter(df['Year'])\n",
    "df_state = pd.DataFrame.from_dict(state_counts, orient='index')\n",
    "df_state.columns = ['Year']\n",
    "df_state.plot(kind='bar')"
   ]
  },
  {
   "cell_type": "code",
   "execution_count": 5,
   "metadata": {
    "ExecuteTime": {
     "end_time": "2018-07-14T15:27:10.529728Z",
     "start_time": "2018-07-14T15:27:10.518683Z"
    }
   },
   "outputs": [
    {
     "data": {
      "text/plain": [
       "Year                     int64\n",
       "Ratings                float64\n",
       "Genre                    int64\n",
       "Gross                    int64\n",
       "Budget                 float64\n",
       "Screens                float64\n",
       "Sequel                   int64\n",
       "Sentiment                int64\n",
       "Views                    int64\n",
       "Likes                    int64\n",
       "Dislikes                 int64\n",
       "Comments                 int64\n",
       "Aggregate Followers    float64\n",
       "dtype: object"
      ]
     },
     "execution_count": 5,
     "metadata": {},
     "output_type": "execute_result"
    }
   ],
   "source": [
    "df.dtypes"
   ]
  },
  {
   "cell_type": "code",
   "execution_count": 6,
   "metadata": {
    "ExecuteTime": {
     "end_time": "2018-07-14T15:27:10.548247Z",
     "start_time": "2018-07-14T15:27:10.535614Z"
    }
   },
   "outputs": [
    {
     "data": {
      "text/plain": [
       "Year                    0\n",
       "Ratings                 0\n",
       "Genre                   0\n",
       "Gross                   0\n",
       "Budget                  1\n",
       "Screens                10\n",
       "Sequel                  0\n",
       "Sentiment               0\n",
       "Views                   0\n",
       "Likes                   0\n",
       "Dislikes                0\n",
       "Comments                0\n",
       "Aggregate Followers    35\n",
       "dtype: int64"
      ]
     },
     "execution_count": 6,
     "metadata": {},
     "output_type": "execute_result"
    }
   ],
   "source": [
    "df.isnull().sum()"
   ]
  },
  {
   "cell_type": "code",
   "execution_count": 7,
   "metadata": {
    "ExecuteTime": {
     "end_time": "2018-07-14T15:27:10.854308Z",
     "start_time": "2018-07-14T15:27:10.552763Z"
    },
    "scrolled": true
   },
   "outputs": [
    {
     "data": {
      "text/html": [
       "<div>\n",
       "<style scoped>\n",
       "    .dataframe tbody tr th:only-of-type {\n",
       "        vertical-align: middle;\n",
       "    }\n",
       "\n",
       "    .dataframe tbody tr th {\n",
       "        vertical-align: top;\n",
       "    }\n",
       "\n",
       "    .dataframe thead th {\n",
       "        text-align: right;\n",
       "    }\n",
       "</style>\n",
       "<table border=\"1\" class=\"dataframe\">\n",
       "  <thead>\n",
       "    <tr style=\"text-align: right;\">\n",
       "      <th></th>\n",
       "      <th>Year</th>\n",
       "      <th>Ratings</th>\n",
       "      <th>Genre</th>\n",
       "      <th>Gross</th>\n",
       "      <th>Budget</th>\n",
       "      <th>Screens</th>\n",
       "      <th>Sequel</th>\n",
       "      <th>Sentiment</th>\n",
       "      <th>Views</th>\n",
       "      <th>Likes</th>\n",
       "      <th>Dislikes</th>\n",
       "      <th>Comments</th>\n",
       "      <th>Aggregate Followers</th>\n",
       "    </tr>\n",
       "    <tr>\n",
       "      <th>Movie</th>\n",
       "      <th></th>\n",
       "      <th></th>\n",
       "      <th></th>\n",
       "      <th></th>\n",
       "      <th></th>\n",
       "      <th></th>\n",
       "      <th></th>\n",
       "      <th></th>\n",
       "      <th></th>\n",
       "      <th></th>\n",
       "      <th></th>\n",
       "      <th></th>\n",
       "      <th></th>\n",
       "    </tr>\n",
       "  </thead>\n",
       "  <tbody>\n",
       "    <tr>\n",
       "      <th>13 Sins</th>\n",
       "      <td>2014.0</td>\n",
       "      <td>6.3</td>\n",
       "      <td>8.0</td>\n",
       "      <td>9130.0</td>\n",
       "      <td>4000000.0</td>\n",
       "      <td>45.0</td>\n",
       "      <td>1.0</td>\n",
       "      <td>0.0</td>\n",
       "      <td>3280543.0</td>\n",
       "      <td>4632.0</td>\n",
       "      <td>425.0</td>\n",
       "      <td>636.0</td>\n",
       "      <td>1120000.0</td>\n",
       "    </tr>\n",
       "    <tr>\n",
       "      <th>22 Jump Street</th>\n",
       "      <td>2014.0</td>\n",
       "      <td>7.1</td>\n",
       "      <td>1.0</td>\n",
       "      <td>192000000.0</td>\n",
       "      <td>50000000.0</td>\n",
       "      <td>3306.0</td>\n",
       "      <td>2.0</td>\n",
       "      <td>2.0</td>\n",
       "      <td>583289.0</td>\n",
       "      <td>3465.0</td>\n",
       "      <td>61.0</td>\n",
       "      <td>186.0</td>\n",
       "      <td>12350000.0</td>\n",
       "    </tr>\n",
       "    <tr>\n",
       "      <th>3 Days to Kill</th>\n",
       "      <td>2014.0</td>\n",
       "      <td>6.2</td>\n",
       "      <td>1.0</td>\n",
       "      <td>30700000.0</td>\n",
       "      <td>28000000.0</td>\n",
       "      <td>2872.0</td>\n",
       "      <td>1.0</td>\n",
       "      <td>0.0</td>\n",
       "      <td>304861.0</td>\n",
       "      <td>328.0</td>\n",
       "      <td>34.0</td>\n",
       "      <td>47.0</td>\n",
       "      <td>483000.0</td>\n",
       "    </tr>\n",
       "    <tr>\n",
       "      <th>300: Rise of an Empire</th>\n",
       "      <td>2014.0</td>\n",
       "      <td>6.3</td>\n",
       "      <td>1.0</td>\n",
       "      <td>106000000.0</td>\n",
       "      <td>110000000.0</td>\n",
       "      <td>3470.0</td>\n",
       "      <td>2.0</td>\n",
       "      <td>0.0</td>\n",
       "      <td>452917.0</td>\n",
       "      <td>2429.0</td>\n",
       "      <td>132.0</td>\n",
       "      <td>590.0</td>\n",
       "      <td>568000.0</td>\n",
       "    </tr>\n",
       "    <tr>\n",
       "      <th>A Haunted House 2</th>\n",
       "      <td>2014.0</td>\n",
       "      <td>4.7</td>\n",
       "      <td>8.0</td>\n",
       "      <td>17300000.0</td>\n",
       "      <td>3500000.0</td>\n",
       "      <td>2310.0</td>\n",
       "      <td>2.0</td>\n",
       "      <td>0.0</td>\n",
       "      <td>3145573.0</td>\n",
       "      <td>12163.0</td>\n",
       "      <td>610.0</td>\n",
       "      <td>1082.0</td>\n",
       "      <td>1923800.0</td>\n",
       "    </tr>\n",
       "  </tbody>\n",
       "</table>\n",
       "</div>"
      ],
      "text/plain": [
       "                          Year  Ratings  Genre        Gross       Budget  \\\n",
       "Movie                                                                      \n",
       "13 Sins                 2014.0      6.3    8.0       9130.0    4000000.0   \n",
       "22 Jump Street          2014.0      7.1    1.0  192000000.0   50000000.0   \n",
       "3 Days to Kill          2014.0      6.2    1.0   30700000.0   28000000.0   \n",
       "300: Rise of an Empire  2014.0      6.3    1.0  106000000.0  110000000.0   \n",
       "A Haunted House 2       2014.0      4.7    8.0   17300000.0    3500000.0   \n",
       "\n",
       "                        Screens  Sequel  Sentiment      Views    Likes  \\\n",
       "Movie                                                                    \n",
       "13 Sins                    45.0     1.0        0.0  3280543.0   4632.0   \n",
       "22 Jump Street           3306.0     2.0        2.0   583289.0   3465.0   \n",
       "3 Days to Kill           2872.0     1.0        0.0   304861.0    328.0   \n",
       "300: Rise of an Empire   3470.0     2.0        0.0   452917.0   2429.0   \n",
       "A Haunted House 2        2310.0     2.0        0.0  3145573.0  12163.0   \n",
       "\n",
       "                        Dislikes  Comments  Aggregate Followers  \n",
       "Movie                                                            \n",
       "13 Sins                    425.0     636.0            1120000.0  \n",
       "22 Jump Street              61.0     186.0           12350000.0  \n",
       "3 Days to Kill              34.0      47.0             483000.0  \n",
       "300: Rise of an Empire     132.0     590.0             568000.0  \n",
       "A Haunted House 2          610.0    1082.0            1923800.0  "
      ]
     },
     "execution_count": 7,
     "metadata": {},
     "output_type": "execute_result"
    }
   ],
   "source": [
    "from sklearn.preprocessing import Imputer\n",
    "imr = Imputer(missing_values='NaN', strategy='mean', axis=0)\n",
    "imr = imr.fit(df)\n",
    "df.iloc[:,:] = imr.transform(df)\n",
    "df.head()"
   ]
  },
  {
   "cell_type": "code",
   "execution_count": 8,
   "metadata": {
    "ExecuteTime": {
     "end_time": "2018-07-14T15:27:10.867876Z",
     "start_time": "2018-07-14T15:27:10.858122Z"
    }
   },
   "outputs": [
    {
     "data": {
      "text/plain": [
       "Year                   0\n",
       "Ratings                0\n",
       "Genre                  0\n",
       "Gross                  0\n",
       "Budget                 0\n",
       "Screens                0\n",
       "Sequel                 0\n",
       "Sentiment              0\n",
       "Views                  0\n",
       "Likes                  0\n",
       "Dislikes               0\n",
       "Comments               0\n",
       "Aggregate Followers    0\n",
       "dtype: int64"
      ]
     },
     "execution_count": 8,
     "metadata": {},
     "output_type": "execute_result"
    }
   ],
   "source": [
    "df.isnull().sum()"
   ]
  },
  {
   "cell_type": "markdown",
   "metadata": {},
   "source": [
    "## Models\n",
    "\n",
    "We take a look at certain models namely the kNN regression, linear regression, Lasso regression and Ridge regression. We use a certain automated system shared in our class to determine the test accuracy for Ratings and Gross Income separately.\n",
    "\n",
    "We vary the hyperparameters for kNN regression (k-nearest neighbor) and regularization(C) for Ridge and Lasso regression to determine the best model. "
   ]
  },
  {
   "cell_type": "code",
   "execution_count": 9,
   "metadata": {
    "ExecuteTime": {
     "end_time": "2018-07-14T15:27:14.248311Z",
     "start_time": "2018-07-14T15:27:10.873015Z"
    }
   },
   "outputs": [],
   "source": [
    "import matplotlib.pyplot as plt\n",
    "from sklearn.model_selection import train_test_split\n",
    "from sklearn.neighbors import KNeighborsClassifier\n",
    "from sklearn.neighbors import KNeighborsRegressor\n",
    "from sklearn.linear_model import LogisticRegression\n",
    "from sklearn.linear_model import LinearRegression\n",
    "from sklearn.linear_model import Ridge\n",
    "from sklearn.linear_model import Lasso\n",
    "from sklearn.svm import LinearSVC\n",
    "import numpy as np\n",
    "import pandas as pd\n",
    "\n",
    "class JudasBase():\n",
    "    \n",
    "    def annotation(self, ax, text, max_index, max_score, textdirection='north', \n",
    "                   textdistance=2, horizontalalignment='left', log=False):\n",
    "        ymin, ymax = ax.get_ylim()\n",
    "        xmin, xmax = ax.get_xlim()\n",
    "        #print('xmax: {}\\nxmin: {}\\nmaxindex: {}'.format(xmax,xmin,max_index))\n",
    "        if log:\n",
    "            offset_x = lambda x: np.e**(np.log10(max_index)+\n",
    "                        (x*textdistance*(np.log10(xmax)-np.log10(xmin))/10))\n",
    "        else:\n",
    "            offset_x = lambda x: max_index + x*textdistance*(xmax-xmin)/10 \n",
    "            \n",
    "        offset_y = textdistance*(ymax-ymin)/10\n",
    "        max_loc = (max_index, max_score)\n",
    "        if textdirection == 'north':\n",
    "            xytext = (max_index, max_score + offset_y)\n",
    "        elif textdirection == 'northeast':\n",
    "            xytext = (offset_x(1), max_score + offset_y)\n",
    "        elif textdirection == 'east':\n",
    "            xytext = (offset_x(1), max_score)\n",
    "        elif textdirection == 'southeast':\n",
    "            xytext = (offset_x(1), max_score - offset_y)\n",
    "        elif textdirection == 'south':\n",
    "            xytext = (max_index, max_score - offset_y)\n",
    "        elif textdirection == 'southwest':\n",
    "            xytext = (offset_x(-1), max_score - offset_y)\n",
    "        elif textdirection == 'west':\n",
    "            xytext = (offset_x(-1), max_score)\n",
    "        elif textdirection == 'northwest':\n",
    "            xytext = (offset_x(-1), max_score + offset_y)\n",
    "\n",
    "        ax.annotate(text, \n",
    "                xy=max_loc, xytext=xytext,\n",
    "                arrowprops=dict(facecolor='black', shrink=1),\n",
    "                horizontalalignment=horizontalalignment)\n",
    "        return ax\n",
    "    \n",
    "class TrainKNN(JudasBase):\n",
    "    score_train = []\n",
    "    score_test = []\n",
    "    neighbors_settings = range(1,2)\n",
    "    \n",
    "    def __init__(self, X, y, knntype='regression', neighbors_settings=range(1,70),\n",
    "                 number_trials=50, test_size=0.25):\n",
    "        score_train = []\n",
    "        score_test = []\n",
    "        self.knntype = knntype\n",
    "        self.neighbors_settings = neighbors_settings\n",
    "        self.number_trials = number_trials\n",
    "\n",
    "        for seed in range(number_trials):\n",
    "            X_train, X_test, y_train, y_test = train_test_split(X, y, test_size=test_size, random_state=seed)\n",
    "\n",
    "            acc_train = []\n",
    "            acc_test = []\n",
    "\n",
    "            for n_neighbors in self.neighbors_settings:   \n",
    "                if knntype == 'regression':\n",
    "                    clf = KNeighborsRegressor(n_neighbors=n_neighbors) # build the model \n",
    "                elif knntype == 'classification':\n",
    "                    clf = KNeighborsClassifier(n_neighbors=n_neighbors) # build the model \n",
    "                clf.fit(X_train, y_train)    \n",
    "                acc_train.append(clf.score(X_train, y_train))\n",
    "                acc_test.append(clf.score(X_test, y_test))\n",
    "\n",
    "            score_train.append(acc_train)\n",
    "            score_test.append(acc_test)  \n",
    "        \n",
    "        self.score_train = score_train\n",
    "        self.score_test = score_test\n",
    "        return\n",
    "\n",
    "    def score(self):\n",
    "        score = np.mean(self.score_test, axis=0)\n",
    "        return ['kNN {}'.format(self.knntype), np.amax(score), 'N_Neighbor = {0}'.format(np.argmax(score)+1), 'NA']\n",
    "\n",
    "    def plot(self, figsize=(8,6), annotation=True, horizontalalignment='left',\n",
    "             textdirection='north', textdistance=2):\n",
    "        df = pd.DataFrame({'train': np.mean(self.score_train, axis=0),\n",
    "                           'test': np.mean(self.score_test, axis=0)},\n",
    "                            index=self.neighbors_settings)\n",
    "        ax = df.plot(figsize=figsize)\n",
    "    \n",
    "        score = np.mean(self.score_test, axis=0)\n",
    "        max_score = np.amax(score)\n",
    "        max_index = np.argmax(score)\n",
    "        if annotation:\n",
    "            text = 'Test Set\\noptimal neighbor size: {}\\naccuracy: {:.2%}'.\\\n",
    "                    format(self.neighbors_settings[max_index], max_score)\n",
    "            ax = self.annotation(ax, text, self.neighbors_settings[max_index], max_score, \n",
    "                                 textdirection, textdistance, horizontalalignment)\n",
    "        ax.set_title('KNN {} Model ({} samples)'.format(self.knntype, self.number_trials))\n",
    "        ax.set_xlabel('neighbors')\n",
    "        ax.set_ylabel('accuracy')\n",
    "        #ax.set_xticks(self.neighbors_settings)\n",
    "        return ax\n",
    "    \n",
    "class TrainClassification(JudasBase):\n",
    "    score_train = []\n",
    "    score_test = []\n",
    "    weighted_coefs = []\n",
    "    C = [1e-8, 1e-4, 1e-3, 1e-2, 0.1, 0.2,0.4, 0.75, 1, 1.5, 3, 5, 10, 15,  20, 100, 300, 1000, 5000]\n",
    "    \n",
    "    def __init__(self, X, y, model, reg, number_trials=50, test_size=0.25, C=None):\n",
    "        \n",
    "        if C is not None:\n",
    "            self.C = C\n",
    "        if model == 'logistic':\n",
    "            #clf = LogisticRegression()\n",
    "            self.modelname = 'Logistic Regression Model'\n",
    "        elif model == 'svm':\n",
    "            #clf = LinearSVC()\n",
    "            self.modelname = 'SVM Model'\n",
    "        else:\n",
    "            return 'Invalid model'\n",
    "        self.number_trials = number_trials\n",
    "        self.reg = reg\n",
    "        score_train = []\n",
    "        score_test = []\n",
    "        weighted_coefs = []\n",
    "\n",
    "        for seed in range(number_trials):\n",
    "            training_accuracy = []  \n",
    "            test_accuracy = []\n",
    "            X_train, X_test, y_train, y_test = train_test_split(X, y, test_size=0.25, random_state=seed)\n",
    "            for alpha_run in self.C:\n",
    "                #clf.C = alpha_run\n",
    "                #clf.penalty = reg\n",
    "                if model == 'logistic':\n",
    "                    clf = LogisticRegression(C=alpha_run, penalty=reg).fit(X_train, y_train)\n",
    "                elif model == 'svm':\n",
    "                    if reg == 'l1':\n",
    "                        clf = LinearSVC(C=alpha_run, penalty=reg, loss='squared_hinge',\\\n",
    "                                        dual=False).fit(X_train, y_train)\n",
    "                    elif reg == 'l2':\n",
    "                        clf = LinearSVC(C=alpha_run, penalty=reg).fit(X_train, y_train)\n",
    "                    else:\n",
    "                        return 'Invalid regularization'\n",
    "                #model = clf.fit(X_train, y_train)\n",
    "                training_accuracy.append(clf.score(X_train, y_train))\n",
    "                test_accuracy.append(clf.score(X_test, y_test))\n",
    "                if alpha_run == 0.01:\n",
    "                    coefs=clf.coef_ \n",
    "                    weighted_coefs.append(coefs) #append all the computed coefficients per trial\n",
    "\n",
    "            score_train.append(training_accuracy)\n",
    "            score_test.append(test_accuracy)\n",
    "    \n",
    "        #get the mean of the weighted coefficients over all the trials \n",
    "        self.weighted_coefs = np.mean(weighted_coefs, axis=0) \n",
    "        self.score_train = score_train\n",
    "        self.score_test = score_test\n",
    "        return\n",
    "\n",
    "    def score(self):\n",
    "        score = np.mean(self.score_test, axis=0)\n",
    "        top_predictor=[X.columns[np.argmax(np.abs(i))] for i in self.weighted_coefs]\n",
    "        return ['{} ({})'.format(self.modelname, self.reg.upper()), np.amax(score), \\\n",
    "            'C = {0}'.format(self.C[np.argmax(score)]), top_predictor]\n",
    "\n",
    "    def plot(self, figsize=(8,6), annotation=True, horizontalalignment='left',\n",
    "             textdirection='north', textdistance=2):\n",
    "        df = pd.DataFrame({'train': np.mean(self.score_train, axis=0),\n",
    "                           'test': np.mean(self.score_test, axis=0)},\n",
    "                            index=self.C)\n",
    "        ax = df.plot(figsize=figsize)\n",
    "        ax.set_xscale('log')\n",
    "    \n",
    "        score = np.mean(self.score_test, axis=0)\n",
    "        max_score = np.amax(score)\n",
    "        max_index = np.argmax(score)\n",
    "        max_loc = (max_index, max_score)\n",
    "        if annotation:\n",
    "            text = 'Test Set\\noptimal C: {}\\naccuracy: {:.2%}'.\\\n",
    "                        format(self.C[max_index], max_score)\n",
    "            ax = self.annotation(ax, text, self.C[max_index], max_score, textdirection, \n",
    "                                 textdistance, horizontalalignment, log=True)\n",
    "        ax.set_title('''{} ({} regularization, {} samples)'''\\\n",
    "                     .format(self.modelname, self.reg.upper(), self.number_trials))\n",
    "        ax.set_xlabel('C parameter')\n",
    "        ax.set_ylabel('accuracy')\n",
    "        #ax.set_xticks(self.C)\n",
    "        return ax\n",
    "    \n",
    "class TrainRegression(JudasBase):\n",
    "    score_train = []\n",
    "    score_test = []\n",
    "    weighted_coefs = []\n",
    "    C = [1e-8, 1e-4, 1e-3, 1e-2, 0.1, 0.2,0.4, 0.75, 1, 1.5, 3, 5, 10, 15,  20, 100, 300, 1000, 5000]\n",
    "    \n",
    "    def __init__(self, X, y, model, number_trials=50, test_size=0.25, C=None):\n",
    "        \n",
    "        if C is not None:\n",
    "            self.C = C\n",
    "        if model == 'linear':\n",
    "            self.modelname = 'Linear Regression Model'\n",
    "        elif model == 'ridge':\n",
    "            self.modelname = 'Ridge Regression Model'\n",
    "        elif model == 'lasso':\n",
    "            self.modelname = 'Lasso Regression Model'\n",
    "        else:\n",
    "            return 'Invalid model'\n",
    "        self.number_trials = number_trials\n",
    "        self.model = model\n",
    "        score_train = []\n",
    "        score_test = []\n",
    "        weighted_coefs = []\n",
    "\n",
    "        for seed in range(number_trials):\n",
    "            training_accuracy = []  \n",
    "            test_accuracy = []\n",
    "            X_train, X_test, y_train, y_test = train_test_split(X, y, test_size=0.25, random_state=seed)\n",
    "            if model == 'linear':\n",
    "                clf = LinearRegression().fit(X_train, y_train)\n",
    "                training_accuracy.append(clf.score(X_train, y_train))\n",
    "                test_accuracy.append(clf.score(X_test, y_test))\n",
    "                coefs=clf.coef_ \n",
    "                weighted_coefs.append(coefs) #append all the computed coefficients per trial\n",
    "            else:\n",
    "                for alpha_run in self.C:\n",
    "                    if model == 'ridge':\n",
    "                        clf = Ridge(alpha=alpha_run).fit(X_train, y_train)\n",
    "                    elif model == 'lasso':\n",
    "                        clf = Lasso(alpha=alpha_run).fit(X_train, y_train)\n",
    "\n",
    "                    training_accuracy.append(clf.score(X_train, y_train))\n",
    "                    test_accuracy.append(clf.score(X_test, y_test))\n",
    "                    if alpha_run == 0.01:\n",
    "                        coefs=clf.coef_ \n",
    "                        weighted_coefs.append(coefs) #append all the computed coefficients per trial\n",
    "\n",
    "            score_train.append(training_accuracy)\n",
    "            score_test.append(test_accuracy)\n",
    "    \n",
    "        #get the mean of the weighted coefficients over all the trials \n",
    "        self.weighted_coefs = np.mean(weighted_coefs, axis=0) \n",
    "        self.score_train = score_train\n",
    "        self.score_test = score_test\n",
    "        return\n",
    "\n",
    "    def score(self):\n",
    "        score = np.mean(self.score_test, axis=0)\n",
    "        top_predictor=X.columns[np.argmax(np.abs(self.weighted_coefs))]\n",
    "        if self.model == 'linear':\n",
    "            return ['{}'.format(self.modelname), np.amax(score), \\\n",
    "                'NA', top_predictor]\n",
    "        return ['{}'.format(self.modelname), np.amax(score), \\\n",
    "            'alpha = {0}'.format(self.C[np.argmax(score)]), top_predictor]\n",
    "\n",
    "    def plot(self, figsize=(8,6), annotation=True, horizontalalignment='left',\n",
    "             textdirection='north', textdistance=2):\n",
    "        if self.model=='linear':\n",
    "            return 'no plot for linear'\n",
    "        df = pd.DataFrame({'train': np.mean(self.score_train, axis=0),\n",
    "                           'test': np.mean(self.score_test, axis=0)},\n",
    "                            index=self.C)\n",
    "        ax = df.plot(figsize=figsize)\n",
    "        ax.set_xscale('log')\n",
    "    \n",
    "        score = np.mean(self.score_test, axis=0)\n",
    "        max_score = np.amax(score)\n",
    "        max_index = np.argmax(score)\n",
    "        max_loc = (max_index, max_score)\n",
    "        if annotation:\n",
    "            text = 'Test Set\\noptimal C: {}\\naccuracy: {:.2%}'.\\\n",
    "                        format(self.C[max_index], max_score)\n",
    "            ax = self.annotation(ax, text, self.C[max_index], max_score, textdirection, \n",
    "                                 textdistance, horizontalalignment, log=True)\n",
    "        ax.set_title('''{} ({} samples)'''\\\n",
    "                     .format(self.modelname, self.number_trials))\n",
    "        ax.set_xlabel('C parameter')\n",
    "        ax.set_ylabel('accuracy')\n",
    "        #ax.set_xticks(self.C)\n",
    "        return ax\n",
    "    \n",
    "import time\n",
    "from datetime import timedelta\n",
    "\n",
    "class Train():\n",
    "    results = []\n",
    "    models = []\n",
    "    def automate(self, X, y, models):\n",
    "        self.models = []\n",
    "        for model in models:\n",
    "            start_time = time.time()\n",
    "            if model[0] == 'knn-classifier':\n",
    "                m = TrainKNN(X,y,'classification',model[1],model[2])\n",
    "            elif model[0] == 'logistic-regression':\n",
    "                m = TrainClassification(X,y,model='logistic', reg=model[1], number_trials=model[2])\n",
    "            elif model[0] == 'svm':\n",
    "                m = TrainClassification(X,y,model='svm', reg=model[1], number_trials=model[2])\n",
    "            elif model[0] == 'knn-regression':\n",
    "                m = TrainKNN(X,y,'regression',model[1],model[2])\n",
    "            elif model[0] == 'linear-regression':\n",
    "                m = TrainRegression(X,y,'linear', number_trials=model[1])\n",
    "            elif model[0] == 'ridge-regression':\n",
    "                m = TrainRegression(X,y,'ridge', number_trials=model[1])\n",
    "            elif model[0] == 'lasso-regression':\n",
    "                m = TrainRegression(X,y,'lasso', number_trials=model[1])\n",
    "            else:\n",
    "                continue\n",
    "            elapsed_time_secs = time.time() - start_time\n",
    "            print('{} execution time: {}'.format(model[0], timedelta(seconds=round(elapsed_time_secs))))\n",
    "            self.models.append(m)\n",
    "    def score(self):\n",
    "        cols = ['Machine Learning Method', 'Test Accuracy', 'Best Parameter', 'Top Predictor Variable']\n",
    "        df = pd.DataFrame(columns=cols)\n",
    "        for idx, m in enumerate(self.models):\n",
    "            if DEBUG == True:\n",
    "                print(idx)\n",
    "            df.loc[idx] = m.score()\n",
    "        return df"
   ]
  },
  {
   "cell_type": "code",
   "execution_count": 10,
   "metadata": {
    "ExecuteTime": {
     "end_time": "2018-07-14T15:27:14.258347Z",
     "start_time": "2018-07-14T15:27:14.251246Z"
    }
   },
   "outputs": [],
   "source": [
    "X = df.drop('Ratings', axis=1)\n",
    "y = df['Ratings']"
   ]
  },
  {
   "cell_type": "code",
   "execution_count": 11,
   "metadata": {
    "ExecuteTime": {
     "end_time": "2018-07-14T15:27:15.998116Z",
     "start_time": "2018-07-14T15:27:14.262991Z"
    }
   },
   "outputs": [
    {
     "name": "stdout",
     "output_type": "stream",
     "text": [
      "knn-regression execution time: 0:00:01\n",
      "linear-regression execution time: 0:00:00\n",
      "ridge-regression execution time: 0:00:00\n",
      "lasso-regression execution time: 0:00:00\n",
      "CPU times: user 1.94 s, sys: 24 ms, total: 1.97 s\n",
      "Wall time: 1.72 s\n"
     ]
    }
   ],
   "source": [
    "%%time\n",
    "\n",
    "import warnings\n",
    "warnings.filterwarnings(\"ignore\")\n",
    "\n",
    "# Tuple elements for models 1-6:\n",
    "# first - model\n",
    "# second - neighbors/penalty\n",
    "# third - # of seeds\n",
    "# Tuple elements for models 7-9:\n",
    "# first - model\n",
    "# second - # of seeds\n",
    "\n",
    "DEBUG = False\n",
    "inp = [\n",
    "#     ('knn-classifier', range(1,20), 20),\n",
    "#     ('logistic-regression', 'l1', 20),\n",
    "#     ('logistic-regression', 'l2', 20),\n",
    "#     ('svm', 'l1', 20),\n",
    "#     ('svm', 'l2', 20),\n",
    "    ('knn-regression', range(1,20), 20),\n",
    "    ('linear-regression', 20),\n",
    "    ('ridge-regression', 20),\n",
    "    ('lasso-regression', 20),\n",
    "]\n",
    "judas = Train()\n",
    "judas.automate(X,y,inp)"
   ]
  },
  {
   "cell_type": "code",
   "execution_count": 12,
   "metadata": {
    "ExecuteTime": {
     "end_time": "2018-07-14T15:27:16.041335Z",
     "start_time": "2018-07-14T15:27:16.001443Z"
    }
   },
   "outputs": [
    {
     "data": {
      "text/html": [
       "<div>\n",
       "<style scoped>\n",
       "    .dataframe tbody tr th:only-of-type {\n",
       "        vertical-align: middle;\n",
       "    }\n",
       "\n",
       "    .dataframe tbody tr th {\n",
       "        vertical-align: top;\n",
       "    }\n",
       "\n",
       "    .dataframe thead th {\n",
       "        text-align: right;\n",
       "    }\n",
       "</style>\n",
       "<table border=\"1\" class=\"dataframe\">\n",
       "  <thead>\n",
       "    <tr style=\"text-align: right;\">\n",
       "      <th></th>\n",
       "      <th>Machine Learning Method</th>\n",
       "      <th>Test Accuracy</th>\n",
       "      <th>Best Parameter</th>\n",
       "      <th>Top Predictor Variable</th>\n",
       "    </tr>\n",
       "  </thead>\n",
       "  <tbody>\n",
       "    <tr>\n",
       "      <th>0</th>\n",
       "      <td>kNN regression</td>\n",
       "      <td>0.088104</td>\n",
       "      <td>N_Neighbor = 13</td>\n",
       "      <td>NA</td>\n",
       "    </tr>\n",
       "    <tr>\n",
       "      <th>1</th>\n",
       "      <td>Linear Regression Model</td>\n",
       "      <td>0.034981</td>\n",
       "      <td>NA</td>\n",
       "      <td>Sequel</td>\n",
       "    </tr>\n",
       "    <tr>\n",
       "      <th>2</th>\n",
       "      <td>Ridge Regression Model</td>\n",
       "      <td>0.065132</td>\n",
       "      <td>alpha = 5000</td>\n",
       "      <td>Sequel</td>\n",
       "    </tr>\n",
       "    <tr>\n",
       "      <th>3</th>\n",
       "      <td>Lasso Regression Model</td>\n",
       "      <td>0.130738</td>\n",
       "      <td>alpha = 100</td>\n",
       "      <td>Sequel</td>\n",
       "    </tr>\n",
       "  </tbody>\n",
       "</table>\n",
       "</div>"
      ],
      "text/plain": [
       "   Machine Learning Method  Test Accuracy   Best Parameter  \\\n",
       "0           kNN regression       0.088104  N_Neighbor = 13   \n",
       "1  Linear Regression Model       0.034981               NA   \n",
       "2   Ridge Regression Model       0.065132     alpha = 5000   \n",
       "3   Lasso Regression Model       0.130738      alpha = 100   \n",
       "\n",
       "  Top Predictor Variable  \n",
       "0                     NA  \n",
       "1                 Sequel  \n",
       "2                 Sequel  \n",
       "3                 Sequel  "
      ]
     },
     "execution_count": 12,
     "metadata": {},
     "output_type": "execute_result"
    }
   ],
   "source": [
    " judas.score()"
   ]
  },
  {
   "cell_type": "code",
   "execution_count": 13,
   "metadata": {
    "ExecuteTime": {
     "end_time": "2018-07-14T15:27:16.053970Z",
     "start_time": "2018-07-14T15:27:16.045277Z"
    }
   },
   "outputs": [],
   "source": [
    "X = df.drop(['Gross', 'Ratings'], axis=1)\n",
    "y = df['Gross']"
   ]
  },
  {
   "cell_type": "code",
   "execution_count": 14,
   "metadata": {
    "ExecuteTime": {
     "end_time": "2018-07-14T15:27:18.025964Z",
     "start_time": "2018-07-14T15:27:16.058094Z"
    }
   },
   "outputs": [
    {
     "name": "stdout",
     "output_type": "stream",
     "text": [
      "knn-regression execution time: 0:00:01\n",
      "linear-regression execution time: 0:00:00\n",
      "ridge-regression execution time: 0:00:00\n",
      "lasso-regression execution time: 0:00:01\n",
      "CPU times: user 2.17 s, sys: 22.4 ms, total: 2.2 s\n",
      "Wall time: 1.96 s\n"
     ]
    }
   ],
   "source": [
    "%%time\n",
    "\n",
    "import warnings\n",
    "warnings.filterwarnings(\"ignore\")\n",
    "\n",
    "# Tuple elements for models 1-6:\n",
    "# first - model\n",
    "# second - neighbors/penalty\n",
    "# third - # of seeds\n",
    "# Tuple elements for models 7-9:\n",
    "# first - model\n",
    "# second - # of seeds\n",
    "\n",
    "DEBUG = False\n",
    "inp = [\n",
    "#     ('knn-classifier', range(1,20), 20),\n",
    "#     ('logistic-regression', 'l1', 20),\n",
    "#     ('logistic-regression', 'l2', 20),\n",
    "#     ('svm', 'l1', 20),\n",
    "#     ('svm', 'l2', 20),\n",
    "    ('knn-regression', range(1,20), 20),\n",
    "    ('linear-regression', 20),\n",
    "    ('ridge-regression', 20),\n",
    "    ('lasso-regression', 20),\n",
    "]\n",
    "judas = Train()\n",
    "judas.automate(X,y,inp)"
   ]
  },
  {
   "cell_type": "code",
   "execution_count": 15,
   "metadata": {
    "ExecuteTime": {
     "end_time": "2018-07-14T15:27:18.071648Z",
     "start_time": "2018-07-14T15:27:18.030111Z"
    }
   },
   "outputs": [
    {
     "data": {
      "text/html": [
       "<div>\n",
       "<style scoped>\n",
       "    .dataframe tbody tr th:only-of-type {\n",
       "        vertical-align: middle;\n",
       "    }\n",
       "\n",
       "    .dataframe tbody tr th {\n",
       "        vertical-align: top;\n",
       "    }\n",
       "\n",
       "    .dataframe thead th {\n",
       "        text-align: right;\n",
       "    }\n",
       "</style>\n",
       "<table border=\"1\" class=\"dataframe\">\n",
       "  <thead>\n",
       "    <tr style=\"text-align: right;\">\n",
       "      <th></th>\n",
       "      <th>Machine Learning Method</th>\n",
       "      <th>Test Accuracy</th>\n",
       "      <th>Best Parameter</th>\n",
       "      <th>Top Predictor Variable</th>\n",
       "    </tr>\n",
       "  </thead>\n",
       "  <tbody>\n",
       "    <tr>\n",
       "      <th>0</th>\n",
       "      <td>kNN regression</td>\n",
       "      <td>0.466170</td>\n",
       "      <td>N_Neighbor = 18</td>\n",
       "      <td>NA</td>\n",
       "    </tr>\n",
       "    <tr>\n",
       "      <th>1</th>\n",
       "      <td>Linear Regression Model</td>\n",
       "      <td>0.439157</td>\n",
       "      <td>NA</td>\n",
       "      <td>Sequel</td>\n",
       "    </tr>\n",
       "    <tr>\n",
       "      <th>2</th>\n",
       "      <td>Ridge Regression Model</td>\n",
       "      <td>0.476889</td>\n",
       "      <td>alpha = 5000</td>\n",
       "      <td>Sequel</td>\n",
       "    </tr>\n",
       "    <tr>\n",
       "      <th>3</th>\n",
       "      <td>Lasso Regression Model</td>\n",
       "      <td>0.439255</td>\n",
       "      <td>alpha = 5000</td>\n",
       "      <td>Sequel</td>\n",
       "    </tr>\n",
       "  </tbody>\n",
       "</table>\n",
       "</div>"
      ],
      "text/plain": [
       "   Machine Learning Method  Test Accuracy   Best Parameter  \\\n",
       "0           kNN regression       0.466170  N_Neighbor = 18   \n",
       "1  Linear Regression Model       0.439157               NA   \n",
       "2   Ridge Regression Model       0.476889     alpha = 5000   \n",
       "3   Lasso Regression Model       0.439255     alpha = 5000   \n",
       "\n",
       "  Top Predictor Variable  \n",
       "0                     NA  \n",
       "1                 Sequel  \n",
       "2                 Sequel  \n",
       "3                 Sequel  "
      ]
     },
     "execution_count": 15,
     "metadata": {},
     "output_type": "execute_result"
    }
   ],
   "source": [
    " judas.score()"
   ]
  },
  {
   "cell_type": "markdown",
   "metadata": {},
   "source": [
    "* As suggested in the paper cited below, we now try to look at conventional features and social media features separately to see if the regression accuracy will improve. We have df1 for the conventional features and df2 for the social media features."
   ]
  },
  {
   "cell_type": "code",
   "execution_count": 16,
   "metadata": {
    "ExecuteTime": {
     "end_time": "2018-07-14T15:27:18.094697Z",
     "start_time": "2018-07-14T15:27:18.074735Z"
    }
   },
   "outputs": [
    {
     "data": {
      "text/html": [
       "<div>\n",
       "<style scoped>\n",
       "    .dataframe tbody tr th:only-of-type {\n",
       "        vertical-align: middle;\n",
       "    }\n",
       "\n",
       "    .dataframe tbody tr th {\n",
       "        vertical-align: top;\n",
       "    }\n",
       "\n",
       "    .dataframe thead th {\n",
       "        text-align: right;\n",
       "    }\n",
       "</style>\n",
       "<table border=\"1\" class=\"dataframe\">\n",
       "  <thead>\n",
       "    <tr style=\"text-align: right;\">\n",
       "      <th></th>\n",
       "      <th>Year</th>\n",
       "      <th>Ratings</th>\n",
       "      <th>Genre</th>\n",
       "      <th>Gross</th>\n",
       "      <th>Budget</th>\n",
       "      <th>Screens</th>\n",
       "      <th>Sequel</th>\n",
       "    </tr>\n",
       "    <tr>\n",
       "      <th>Movie</th>\n",
       "      <th></th>\n",
       "      <th></th>\n",
       "      <th></th>\n",
       "      <th></th>\n",
       "      <th></th>\n",
       "      <th></th>\n",
       "      <th></th>\n",
       "    </tr>\n",
       "  </thead>\n",
       "  <tbody>\n",
       "    <tr>\n",
       "      <th>13 Sins</th>\n",
       "      <td>2014.0</td>\n",
       "      <td>6.3</td>\n",
       "      <td>8.0</td>\n",
       "      <td>9130.0</td>\n",
       "      <td>4000000.0</td>\n",
       "      <td>45.0</td>\n",
       "      <td>1.0</td>\n",
       "    </tr>\n",
       "    <tr>\n",
       "      <th>22 Jump Street</th>\n",
       "      <td>2014.0</td>\n",
       "      <td>7.1</td>\n",
       "      <td>1.0</td>\n",
       "      <td>192000000.0</td>\n",
       "      <td>50000000.0</td>\n",
       "      <td>3306.0</td>\n",
       "      <td>2.0</td>\n",
       "    </tr>\n",
       "    <tr>\n",
       "      <th>3 Days to Kill</th>\n",
       "      <td>2014.0</td>\n",
       "      <td>6.2</td>\n",
       "      <td>1.0</td>\n",
       "      <td>30700000.0</td>\n",
       "      <td>28000000.0</td>\n",
       "      <td>2872.0</td>\n",
       "      <td>1.0</td>\n",
       "    </tr>\n",
       "    <tr>\n",
       "      <th>300: Rise of an Empire</th>\n",
       "      <td>2014.0</td>\n",
       "      <td>6.3</td>\n",
       "      <td>1.0</td>\n",
       "      <td>106000000.0</td>\n",
       "      <td>110000000.0</td>\n",
       "      <td>3470.0</td>\n",
       "      <td>2.0</td>\n",
       "    </tr>\n",
       "    <tr>\n",
       "      <th>A Haunted House 2</th>\n",
       "      <td>2014.0</td>\n",
       "      <td>4.7</td>\n",
       "      <td>8.0</td>\n",
       "      <td>17300000.0</td>\n",
       "      <td>3500000.0</td>\n",
       "      <td>2310.0</td>\n",
       "      <td>2.0</td>\n",
       "    </tr>\n",
       "  </tbody>\n",
       "</table>\n",
       "</div>"
      ],
      "text/plain": [
       "                          Year  Ratings  Genre        Gross       Budget  \\\n",
       "Movie                                                                      \n",
       "13 Sins                 2014.0      6.3    8.0       9130.0    4000000.0   \n",
       "22 Jump Street          2014.0      7.1    1.0  192000000.0   50000000.0   \n",
       "3 Days to Kill          2014.0      6.2    1.0   30700000.0   28000000.0   \n",
       "300: Rise of an Empire  2014.0      6.3    1.0  106000000.0  110000000.0   \n",
       "A Haunted House 2       2014.0      4.7    8.0   17300000.0    3500000.0   \n",
       "\n",
       "                        Screens  Sequel  \n",
       "Movie                                    \n",
       "13 Sins                    45.0     1.0  \n",
       "22 Jump Street           3306.0     2.0  \n",
       "3 Days to Kill           2872.0     1.0  \n",
       "300: Rise of an Empire   3470.0     2.0  \n",
       "A Haunted House 2        2310.0     2.0  "
      ]
     },
     "execution_count": 16,
     "metadata": {},
     "output_type": "execute_result"
    }
   ],
   "source": [
    "df1 = df.iloc[:,:7]\n",
    "df1.head()"
   ]
  },
  {
   "cell_type": "code",
   "execution_count": 17,
   "metadata": {
    "ExecuteTime": {
     "end_time": "2018-07-14T15:27:18.120564Z",
     "start_time": "2018-07-14T15:27:18.098001Z"
    }
   },
   "outputs": [
    {
     "data": {
      "text/html": [
       "<div>\n",
       "<style scoped>\n",
       "    .dataframe tbody tr th:only-of-type {\n",
       "        vertical-align: middle;\n",
       "    }\n",
       "\n",
       "    .dataframe tbody tr th {\n",
       "        vertical-align: top;\n",
       "    }\n",
       "\n",
       "    .dataframe thead th {\n",
       "        text-align: right;\n",
       "    }\n",
       "</style>\n",
       "<table border=\"1\" class=\"dataframe\">\n",
       "  <thead>\n",
       "    <tr style=\"text-align: right;\">\n",
       "      <th></th>\n",
       "      <th>Ratings</th>\n",
       "      <th>Gross</th>\n",
       "      <th>Sentiment</th>\n",
       "      <th>Views</th>\n",
       "      <th>Likes</th>\n",
       "      <th>Dislikes</th>\n",
       "      <th>Comments</th>\n",
       "      <th>Aggregate Followers</th>\n",
       "    </tr>\n",
       "    <tr>\n",
       "      <th>Movie</th>\n",
       "      <th></th>\n",
       "      <th></th>\n",
       "      <th></th>\n",
       "      <th></th>\n",
       "      <th></th>\n",
       "      <th></th>\n",
       "      <th></th>\n",
       "      <th></th>\n",
       "    </tr>\n",
       "  </thead>\n",
       "  <tbody>\n",
       "    <tr>\n",
       "      <th>13 Sins</th>\n",
       "      <td>6.3</td>\n",
       "      <td>9130.0</td>\n",
       "      <td>0.0</td>\n",
       "      <td>3280543.0</td>\n",
       "      <td>4632.0</td>\n",
       "      <td>425.0</td>\n",
       "      <td>636.0</td>\n",
       "      <td>1120000.0</td>\n",
       "    </tr>\n",
       "    <tr>\n",
       "      <th>22 Jump Street</th>\n",
       "      <td>7.1</td>\n",
       "      <td>192000000.0</td>\n",
       "      <td>2.0</td>\n",
       "      <td>583289.0</td>\n",
       "      <td>3465.0</td>\n",
       "      <td>61.0</td>\n",
       "      <td>186.0</td>\n",
       "      <td>12350000.0</td>\n",
       "    </tr>\n",
       "    <tr>\n",
       "      <th>3 Days to Kill</th>\n",
       "      <td>6.2</td>\n",
       "      <td>30700000.0</td>\n",
       "      <td>0.0</td>\n",
       "      <td>304861.0</td>\n",
       "      <td>328.0</td>\n",
       "      <td>34.0</td>\n",
       "      <td>47.0</td>\n",
       "      <td>483000.0</td>\n",
       "    </tr>\n",
       "    <tr>\n",
       "      <th>300: Rise of an Empire</th>\n",
       "      <td>6.3</td>\n",
       "      <td>106000000.0</td>\n",
       "      <td>0.0</td>\n",
       "      <td>452917.0</td>\n",
       "      <td>2429.0</td>\n",
       "      <td>132.0</td>\n",
       "      <td>590.0</td>\n",
       "      <td>568000.0</td>\n",
       "    </tr>\n",
       "    <tr>\n",
       "      <th>A Haunted House 2</th>\n",
       "      <td>4.7</td>\n",
       "      <td>17300000.0</td>\n",
       "      <td>0.0</td>\n",
       "      <td>3145573.0</td>\n",
       "      <td>12163.0</td>\n",
       "      <td>610.0</td>\n",
       "      <td>1082.0</td>\n",
       "      <td>1923800.0</td>\n",
       "    </tr>\n",
       "  </tbody>\n",
       "</table>\n",
       "</div>"
      ],
      "text/plain": [
       "                        Ratings        Gross  Sentiment      Views    Likes  \\\n",
       "Movie                                                                         \n",
       "13 Sins                     6.3       9130.0        0.0  3280543.0   4632.0   \n",
       "22 Jump Street              7.1  192000000.0        2.0   583289.0   3465.0   \n",
       "3 Days to Kill              6.2   30700000.0        0.0   304861.0    328.0   \n",
       "300: Rise of an Empire      6.3  106000000.0        0.0   452917.0   2429.0   \n",
       "A Haunted House 2           4.7   17300000.0        0.0  3145573.0  12163.0   \n",
       "\n",
       "                        Dislikes  Comments  Aggregate Followers  \n",
       "Movie                                                            \n",
       "13 Sins                    425.0     636.0            1120000.0  \n",
       "22 Jump Street              61.0     186.0           12350000.0  \n",
       "3 Days to Kill              34.0      47.0             483000.0  \n",
       "300: Rise of an Empire     132.0     590.0             568000.0  \n",
       "A Haunted House 2          610.0    1082.0            1923800.0  "
      ]
     },
     "execution_count": 17,
     "metadata": {},
     "output_type": "execute_result"
    }
   ],
   "source": [
    "df2 = df.drop(['Year', 'Genre', 'Budget','Screens','Sequel'], axis=1)\n",
    "df2.head()"
   ]
  },
  {
   "cell_type": "code",
   "execution_count": 18,
   "metadata": {
    "ExecuteTime": {
     "end_time": "2018-07-14T15:27:18.131446Z",
     "start_time": "2018-07-14T15:27:18.123389Z"
    }
   },
   "outputs": [],
   "source": [
    "X = df1.drop('Ratings', axis=1)\n",
    "y = df1['Ratings']"
   ]
  },
  {
   "cell_type": "code",
   "execution_count": 19,
   "metadata": {
    "ExecuteTime": {
     "end_time": "2018-07-14T15:27:19.766063Z",
     "start_time": "2018-07-14T15:27:18.135163Z"
    }
   },
   "outputs": [
    {
     "name": "stdout",
     "output_type": "stream",
     "text": [
      "knn-regression execution time: 0:00:01\n",
      "linear-regression execution time: 0:00:00\n",
      "ridge-regression execution time: 0:00:00\n",
      "lasso-regression execution time: 0:00:00\n",
      "CPU times: user 1.83 s, sys: 32 ms, total: 1.86 s\n",
      "Wall time: 1.62 s\n"
     ]
    }
   ],
   "source": [
    "%%time\n",
    "\n",
    "import warnings\n",
    "warnings.filterwarnings(\"ignore\")\n",
    "\n",
    "# Tuple elements for models 1-6:\n",
    "# first - model\n",
    "# second - neighbors/penalty\n",
    "# third - # of seeds\n",
    "# Tuple elements for models 7-9:\n",
    "# first - model\n",
    "# second - # of seeds\n",
    "\n",
    "DEBUG = False\n",
    "inp = [\n",
    "#     ('knn-classifier', range(1,20), 20),\n",
    "#     ('logistic-regression', 'l1', 20),\n",
    "#     ('logistic-regression', 'l2', 20),\n",
    "#     ('svm', 'l1', 20),\n",
    "#     ('svm', 'l2', 20),\n",
    "    ('knn-regression', range(1,20), 20),\n",
    "    ('linear-regression', 20),\n",
    "    ('ridge-regression', 20),\n",
    "    ('lasso-regression', 20),\n",
    "]\n",
    "judas = Train()\n",
    "judas.automate(X,y,inp)"
   ]
  },
  {
   "cell_type": "code",
   "execution_count": 20,
   "metadata": {
    "ExecuteTime": {
     "end_time": "2018-07-14T15:27:19.804324Z",
     "start_time": "2018-07-14T15:27:19.769301Z"
    }
   },
   "outputs": [
    {
     "data": {
      "text/html": [
       "<div>\n",
       "<style scoped>\n",
       "    .dataframe tbody tr th:only-of-type {\n",
       "        vertical-align: middle;\n",
       "    }\n",
       "\n",
       "    .dataframe tbody tr th {\n",
       "        vertical-align: top;\n",
       "    }\n",
       "\n",
       "    .dataframe thead th {\n",
       "        text-align: right;\n",
       "    }\n",
       "</style>\n",
       "<table border=\"1\" class=\"dataframe\">\n",
       "  <thead>\n",
       "    <tr style=\"text-align: right;\">\n",
       "      <th></th>\n",
       "      <th>Machine Learning Method</th>\n",
       "      <th>Test Accuracy</th>\n",
       "      <th>Best Parameter</th>\n",
       "      <th>Top Predictor Variable</th>\n",
       "    </tr>\n",
       "  </thead>\n",
       "  <tbody>\n",
       "    <tr>\n",
       "      <th>0</th>\n",
       "      <td>kNN regression</td>\n",
       "      <td>0.096766</td>\n",
       "      <td>N_Neighbor = 9</td>\n",
       "      <td>NA</td>\n",
       "    </tr>\n",
       "    <tr>\n",
       "      <th>1</th>\n",
       "      <td>Linear Regression Model</td>\n",
       "      <td>0.079115</td>\n",
       "      <td>NA</td>\n",
       "      <td>Sequel</td>\n",
       "    </tr>\n",
       "    <tr>\n",
       "      <th>2</th>\n",
       "      <td>Ridge Regression Model</td>\n",
       "      <td>0.102828</td>\n",
       "      <td>alpha = 5000</td>\n",
       "      <td>Sequel</td>\n",
       "    </tr>\n",
       "    <tr>\n",
       "      <th>3</th>\n",
       "      <td>Lasso Regression Model</td>\n",
       "      <td>0.105762</td>\n",
       "      <td>alpha = 0.4</td>\n",
       "      <td>Sequel</td>\n",
       "    </tr>\n",
       "  </tbody>\n",
       "</table>\n",
       "</div>"
      ],
      "text/plain": [
       "   Machine Learning Method  Test Accuracy  Best Parameter  \\\n",
       "0           kNN regression       0.096766  N_Neighbor = 9   \n",
       "1  Linear Regression Model       0.079115              NA   \n",
       "2   Ridge Regression Model       0.102828    alpha = 5000   \n",
       "3   Lasso Regression Model       0.105762     alpha = 0.4   \n",
       "\n",
       "  Top Predictor Variable  \n",
       "0                     NA  \n",
       "1                 Sequel  \n",
       "2                 Sequel  \n",
       "3                 Sequel  "
      ]
     },
     "execution_count": 20,
     "metadata": {},
     "output_type": "execute_result"
    }
   ],
   "source": [
    " judas.score()"
   ]
  },
  {
   "cell_type": "code",
   "execution_count": 21,
   "metadata": {
    "ExecuteTime": {
     "end_time": "2018-07-14T15:27:19.821388Z",
     "start_time": "2018-07-14T15:27:19.808365Z"
    }
   },
   "outputs": [],
   "source": [
    "X = df1.drop(['Gross', 'Ratings'], axis=1)\n",
    "y = df1['Gross']"
   ]
  },
  {
   "cell_type": "code",
   "execution_count": 22,
   "metadata": {
    "ExecuteTime": {
     "end_time": "2018-07-14T15:27:21.439320Z",
     "start_time": "2018-07-14T15:27:19.825275Z"
    }
   },
   "outputs": [
    {
     "name": "stdout",
     "output_type": "stream",
     "text": [
      "knn-regression execution time: 0:00:01\n",
      "linear-regression execution time: 0:00:00\n",
      "ridge-regression execution time: 0:00:00\n",
      "lasso-regression execution time: 0:00:00\n",
      "CPU times: user 1.81 s, sys: 27.3 ms, total: 1.84 s\n",
      "Wall time: 1.6 s\n"
     ]
    }
   ],
   "source": [
    "%%time\n",
    "\n",
    "import warnings\n",
    "warnings.filterwarnings(\"ignore\")\n",
    "\n",
    "# Tuple elements for models 1-6:\n",
    "# first - model\n",
    "# second - neighbors/penalty\n",
    "# third - # of seeds\n",
    "# Tuple elements for models 7-9:\n",
    "# first - model\n",
    "# second - # of seeds\n",
    "\n",
    "DEBUG = False\n",
    "inp = [\n",
    "#     ('knn-classifier', range(1,20), 20),\n",
    "#     ('logistic-regression', 'l1', 20),\n",
    "#     ('logistic-regression', 'l2', 20),\n",
    "#     ('svm', 'l1', 20),\n",
    "#     ('svm', 'l2', 20),\n",
    "    ('knn-regression', range(1,20), 20),\n",
    "    ('linear-regression', 20),\n",
    "    ('ridge-regression', 20),\n",
    "    ('lasso-regression', 20),\n",
    "]\n",
    "judas = Train()\n",
    "judas.automate(X,y,inp)"
   ]
  },
  {
   "cell_type": "code",
   "execution_count": 23,
   "metadata": {
    "ExecuteTime": {
     "end_time": "2018-07-14T15:27:21.477611Z",
     "start_time": "2018-07-14T15:27:21.442408Z"
    },
    "scrolled": true
   },
   "outputs": [
    {
     "data": {
      "text/html": [
       "<div>\n",
       "<style scoped>\n",
       "    .dataframe tbody tr th:only-of-type {\n",
       "        vertical-align: middle;\n",
       "    }\n",
       "\n",
       "    .dataframe tbody tr th {\n",
       "        vertical-align: top;\n",
       "    }\n",
       "\n",
       "    .dataframe thead th {\n",
       "        text-align: right;\n",
       "    }\n",
       "</style>\n",
       "<table border=\"1\" class=\"dataframe\">\n",
       "  <thead>\n",
       "    <tr style=\"text-align: right;\">\n",
       "      <th></th>\n",
       "      <th>Machine Learning Method</th>\n",
       "      <th>Test Accuracy</th>\n",
       "      <th>Best Parameter</th>\n",
       "      <th>Top Predictor Variable</th>\n",
       "    </tr>\n",
       "  </thead>\n",
       "  <tbody>\n",
       "    <tr>\n",
       "      <th>0</th>\n",
       "      <td>kNN regression</td>\n",
       "      <td>0.448374</td>\n",
       "      <td>N_Neighbor = 19</td>\n",
       "      <td>NA</td>\n",
       "    </tr>\n",
       "    <tr>\n",
       "      <th>1</th>\n",
       "      <td>Linear Regression Model</td>\n",
       "      <td>0.489751</td>\n",
       "      <td>NA</td>\n",
       "      <td>Sequel</td>\n",
       "    </tr>\n",
       "    <tr>\n",
       "      <th>2</th>\n",
       "      <td>Ridge Regression Model</td>\n",
       "      <td>0.515505</td>\n",
       "      <td>alpha = 5000</td>\n",
       "      <td>Sequel</td>\n",
       "    </tr>\n",
       "    <tr>\n",
       "      <th>3</th>\n",
       "      <td>Lasso Regression Model</td>\n",
       "      <td>0.489795</td>\n",
       "      <td>alpha = 5000</td>\n",
       "      <td>Sequel</td>\n",
       "    </tr>\n",
       "  </tbody>\n",
       "</table>\n",
       "</div>"
      ],
      "text/plain": [
       "   Machine Learning Method  Test Accuracy   Best Parameter  \\\n",
       "0           kNN regression       0.448374  N_Neighbor = 19   \n",
       "1  Linear Regression Model       0.489751               NA   \n",
       "2   Ridge Regression Model       0.515505     alpha = 5000   \n",
       "3   Lasso Regression Model       0.489795     alpha = 5000   \n",
       "\n",
       "  Top Predictor Variable  \n",
       "0                     NA  \n",
       "1                 Sequel  \n",
       "2                 Sequel  \n",
       "3                 Sequel  "
      ]
     },
     "execution_count": 23,
     "metadata": {},
     "output_type": "execute_result"
    }
   ],
   "source": [
    " judas.score()"
   ]
  },
  {
   "cell_type": "code",
   "execution_count": 24,
   "metadata": {
    "ExecuteTime": {
     "end_time": "2018-07-14T15:27:21.489001Z",
     "start_time": "2018-07-14T15:27:21.481357Z"
    }
   },
   "outputs": [],
   "source": [
    "X = df2.drop(['Gross', 'Ratings'], axis=1)\n",
    "y = df2['Gross']"
   ]
  },
  {
   "cell_type": "code",
   "execution_count": 25,
   "metadata": {
    "ExecuteTime": {
     "end_time": "2018-07-14T15:27:23.393374Z",
     "start_time": "2018-07-14T15:27:21.493235Z"
    }
   },
   "outputs": [
    {
     "name": "stdout",
     "output_type": "stream",
     "text": [
      "knn-regression execution time: 0:00:01\n",
      "linear-regression execution time: 0:00:00\n",
      "ridge-regression execution time: 0:00:00\n",
      "lasso-regression execution time: 0:00:01\n",
      "CPU times: user 2.08 s, sys: 32.7 ms, total: 2.11 s\n",
      "Wall time: 1.88 s\n"
     ]
    }
   ],
   "source": [
    "%%time\n",
    "\n",
    "import warnings\n",
    "warnings.filterwarnings(\"ignore\")\n",
    "\n",
    "# Tuple elements for models 1-6:\n",
    "# first - model\n",
    "# second - neighbors/penalty\n",
    "# third - # of seeds\n",
    "# Tuple elements for models 7-9:\n",
    "# first - model\n",
    "# second - # of seeds\n",
    "\n",
    "DEBUG = False\n",
    "inp = [\n",
    "#     ('knn-classifier', range(1,20), 20),\n",
    "#     ('logistic-regression', 'l1', 20),\n",
    "#     ('logistic-regression', 'l2', 20),\n",
    "#     ('svm', 'l1', 20),\n",
    "#     ('svm', 'l2', 20),\n",
    "    ('knn-regression', range(1,20), 20),\n",
    "    ('linear-regression', 20),\n",
    "    ('ridge-regression', 20),\n",
    "    ('lasso-regression', 20),\n",
    "]\n",
    "judas = Train()\n",
    "judas.automate(X,y,inp)"
   ]
  },
  {
   "cell_type": "code",
   "execution_count": 26,
   "metadata": {
    "ExecuteTime": {
     "end_time": "2018-07-14T15:27:23.438472Z",
     "start_time": "2018-07-14T15:27:23.397836Z"
    }
   },
   "outputs": [
    {
     "data": {
      "text/html": [
       "<div>\n",
       "<style scoped>\n",
       "    .dataframe tbody tr th:only-of-type {\n",
       "        vertical-align: middle;\n",
       "    }\n",
       "\n",
       "    .dataframe tbody tr th {\n",
       "        vertical-align: top;\n",
       "    }\n",
       "\n",
       "    .dataframe thead th {\n",
       "        text-align: right;\n",
       "    }\n",
       "</style>\n",
       "<table border=\"1\" class=\"dataframe\">\n",
       "  <thead>\n",
       "    <tr style=\"text-align: right;\">\n",
       "      <th></th>\n",
       "      <th>Machine Learning Method</th>\n",
       "      <th>Test Accuracy</th>\n",
       "      <th>Best Parameter</th>\n",
       "      <th>Top Predictor Variable</th>\n",
       "    </tr>\n",
       "  </thead>\n",
       "  <tbody>\n",
       "    <tr>\n",
       "      <th>0</th>\n",
       "      <td>kNN regression</td>\n",
       "      <td>0.027025</td>\n",
       "      <td>N_Neighbor = 13</td>\n",
       "      <td>NA</td>\n",
       "    </tr>\n",
       "    <tr>\n",
       "      <th>1</th>\n",
       "      <td>Linear Regression Model</td>\n",
       "      <td>-0.227840</td>\n",
       "      <td>NA</td>\n",
       "      <td>Sentiment</td>\n",
       "    </tr>\n",
       "    <tr>\n",
       "      <th>2</th>\n",
       "      <td>Ridge Regression Model</td>\n",
       "      <td>-0.220688</td>\n",
       "      <td>alpha = 5000</td>\n",
       "      <td>Sentiment</td>\n",
       "    </tr>\n",
       "    <tr>\n",
       "      <th>3</th>\n",
       "      <td>Lasso Regression Model</td>\n",
       "      <td>-0.227837</td>\n",
       "      <td>alpha = 5000</td>\n",
       "      <td>Sentiment</td>\n",
       "    </tr>\n",
       "  </tbody>\n",
       "</table>\n",
       "</div>"
      ],
      "text/plain": [
       "   Machine Learning Method  Test Accuracy   Best Parameter  \\\n",
       "0           kNN regression       0.027025  N_Neighbor = 13   \n",
       "1  Linear Regression Model      -0.227840               NA   \n",
       "2   Ridge Regression Model      -0.220688     alpha = 5000   \n",
       "3   Lasso Regression Model      -0.227837     alpha = 5000   \n",
       "\n",
       "  Top Predictor Variable  \n",
       "0                     NA  \n",
       "1              Sentiment  \n",
       "2              Sentiment  \n",
       "3              Sentiment  "
      ]
     },
     "execution_count": 26,
     "metadata": {},
     "output_type": "execute_result"
    }
   ],
   "source": [
    " judas.score()"
   ]
  },
  {
   "cell_type": "code",
   "execution_count": 27,
   "metadata": {
    "ExecuteTime": {
     "end_time": "2018-07-14T15:27:23.452186Z",
     "start_time": "2018-07-14T15:27:23.443196Z"
    }
   },
   "outputs": [],
   "source": [
    "X = df2.drop('Ratings', axis=1)\n",
    "y = df2['Ratings']"
   ]
  },
  {
   "cell_type": "code",
   "execution_count": 28,
   "metadata": {
    "ExecuteTime": {
     "end_time": "2018-07-14T15:27:25.587761Z",
     "start_time": "2018-07-14T15:27:23.456244Z"
    }
   },
   "outputs": [
    {
     "name": "stdout",
     "output_type": "stream",
     "text": [
      "knn-regression execution time: 0:00:01\n",
      "linear-regression execution time: 0:00:00\n",
      "ridge-regression execution time: 0:00:00\n",
      "lasso-regression execution time: 0:00:00\n",
      "CPU times: user 2.28 s, sys: 52.8 ms, total: 2.33 s\n",
      "Wall time: 2.12 s\n"
     ]
    }
   ],
   "source": [
    "%%time\n",
    "\n",
    "import warnings\n",
    "warnings.filterwarnings(\"ignore\")\n",
    "\n",
    "# Tuple elements for models 1-6:\n",
    "# first - model\n",
    "# second - neighbors/penalty\n",
    "# third - # of seeds\n",
    "# Tuple elements for models 7-9:\n",
    "# first - model\n",
    "# second - # of seeds\n",
    "\n",
    "DEBUG = False\n",
    "inp = [\n",
    "#     ('knn-classifier', range(1,20), 20),\n",
    "#     ('logistic-regression', 'l1', 20),\n",
    "#     ('logistic-regression', 'l2', 20),\n",
    "#     ('svm', 'l1', 20),\n",
    "#     ('svm', 'l2', 20),\n",
    "    ('knn-regression', range(1,20), 20),\n",
    "    ('linear-regression', 20),\n",
    "    ('ridge-regression', 20),\n",
    "    ('lasso-regression', 20),\n",
    "]\n",
    "judas = Train()\n",
    "judas.automate(X,y,inp)"
   ]
  },
  {
   "cell_type": "code",
   "execution_count": 29,
   "metadata": {
    "ExecuteTime": {
     "end_time": "2018-07-14T15:27:25.640024Z",
     "start_time": "2018-07-14T15:27:25.593902Z"
    }
   },
   "outputs": [
    {
     "data": {
      "text/html": [
       "<div>\n",
       "<style scoped>\n",
       "    .dataframe tbody tr th:only-of-type {\n",
       "        vertical-align: middle;\n",
       "    }\n",
       "\n",
       "    .dataframe tbody tr th {\n",
       "        vertical-align: top;\n",
       "    }\n",
       "\n",
       "    .dataframe thead th {\n",
       "        text-align: right;\n",
       "    }\n",
       "</style>\n",
       "<table border=\"1\" class=\"dataframe\">\n",
       "  <thead>\n",
       "    <tr style=\"text-align: right;\">\n",
       "      <th></th>\n",
       "      <th>Machine Learning Method</th>\n",
       "      <th>Test Accuracy</th>\n",
       "      <th>Best Parameter</th>\n",
       "      <th>Top Predictor Variable</th>\n",
       "    </tr>\n",
       "  </thead>\n",
       "  <tbody>\n",
       "    <tr>\n",
       "      <th>0</th>\n",
       "      <td>kNN regression</td>\n",
       "      <td>0.099940</td>\n",
       "      <td>N_Neighbor = 18</td>\n",
       "      <td>NA</td>\n",
       "    </tr>\n",
       "    <tr>\n",
       "      <th>1</th>\n",
       "      <td>Linear Regression Model</td>\n",
       "      <td>0.043924</td>\n",
       "      <td>NA</td>\n",
       "      <td>Sentiment</td>\n",
       "    </tr>\n",
       "    <tr>\n",
       "      <th>2</th>\n",
       "      <td>Ridge Regression Model</td>\n",
       "      <td>0.044750</td>\n",
       "      <td>alpha = 1000</td>\n",
       "      <td>Sentiment</td>\n",
       "    </tr>\n",
       "    <tr>\n",
       "      <th>3</th>\n",
       "      <td>Lasso Regression Model</td>\n",
       "      <td>0.133082</td>\n",
       "      <td>alpha = 100</td>\n",
       "      <td>Sentiment</td>\n",
       "    </tr>\n",
       "  </tbody>\n",
       "</table>\n",
       "</div>"
      ],
      "text/plain": [
       "   Machine Learning Method  Test Accuracy   Best Parameter  \\\n",
       "0           kNN regression       0.099940  N_Neighbor = 18   \n",
       "1  Linear Regression Model       0.043924               NA   \n",
       "2   Ridge Regression Model       0.044750     alpha = 1000   \n",
       "3   Lasso Regression Model       0.133082      alpha = 100   \n",
       "\n",
       "  Top Predictor Variable  \n",
       "0                     NA  \n",
       "1              Sentiment  \n",
       "2              Sentiment  \n",
       "3              Sentiment  "
      ]
     },
     "execution_count": 29,
     "metadata": {},
     "output_type": "execute_result"
    }
   ],
   "source": [
    " judas.score()"
   ]
  },
  {
   "cell_type": "markdown",
   "metadata": {},
   "source": [
    "## Results"
   ]
  },
  {
   "cell_type": "markdown",
   "metadata": {},
   "source": [
    "From the results above, it was worth giving a shot at looking into the conventional features and social media features separately. The best predictor for the Ratings is having social media features using Lasso regression model it is at a maximum of 13.3% accuracy with alpha = 100. In the case of Gross Income, using the conventional features with the Ridge regression model would give us a test accuracy of 51.55% with alpha = 5000.\n",
    "\n",
    "The values of the predictor are quite low and it would be good to still look at other models like the decision tree."
   ]
  },
  {
   "cell_type": "markdown",
   "metadata": {},
   "source": [
    "## Citations\n",
    "\n",
    "* Thanks to Jude Teves for the JUDAS model.\n",
    "* Joseph Bunao\n",
    "* M. Ahmed et al, Using Crowd-source based features from social media and Conventional features to predict the movies popularity (2015)"
   ]
  }
 ],
 "metadata": {
  "kernelspec": {
   "display_name": "Python 3",
   "language": "python",
   "name": "python3"
  },
  "language_info": {
   "codemirror_mode": {
    "name": "ipython",
    "version": 3
   },
   "file_extension": ".py",
   "mimetype": "text/x-python",
   "name": "python",
   "nbconvert_exporter": "python",
   "pygments_lexer": "ipython3",
   "version": "3.6.4"
  },
  "latex_envs": {
   "LaTeX_envs_menu_present": true,
   "autoclose": false,
   "autocomplete": true,
   "bibliofile": "biblio.bib",
   "cite_by": "apalike",
   "current_citInitial": 1,
   "eqLabelWithNumbers": true,
   "eqNumInitial": 1,
   "hotkeys": {
    "equation": "Ctrl-E",
    "itemize": "Ctrl-I"
   },
   "labels_anchors": false,
   "latex_user_defs": false,
   "report_style_numbering": false,
   "user_envs_cfg": false
  }
 },
 "nbformat": 4,
 "nbformat_minor": 2
}
